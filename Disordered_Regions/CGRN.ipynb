{
 "cells": [
  {
   "cell_type": "code",
   "execution_count": null,
   "metadata": {
    "execution": {
     "iopub.execute_input": "2020-11-17T07:22:20.579681Z",
     "iopub.status.busy": "2020-11-17T07:22:20.578867Z",
     "iopub.status.idle": "2020-11-17T07:22:26.602263Z",
     "shell.execute_reply": "2020-11-17T07:22:26.601598Z"
    },
    "papermill": {
     "duration": 6.040038,
     "end_time": "2020-11-17T07:22:26.602400",
     "exception": false,
     "start_time": "2020-11-17T07:22:20.562362",
     "status": "completed"
    },
    "tags": []
   },
   "outputs": [],
   "source": [
    "# import os\n",
    "# os.environ['CUDA_VISIBLE_DEVICES'] = \"1\"\n",
    "\n",
    "import tensorflow as tf\n",
    "import tensorflow.keras as tfk\n",
    "import tensorflow.keras.backend as K\n",
    "import numpy as np\n",
    "from tqdm.notebook import tqdm\n",
    "from sklearn.metrics import *\n"
   ]
  },
  {
   "cell_type": "code",
   "execution_count": null,
   "metadata": {
    "execution": {
     "iopub.execute_input": "2020-11-17T07:22:26.633438Z",
     "iopub.status.busy": "2020-11-17T07:22:26.632620Z",
     "iopub.status.idle": "2020-11-17T07:22:33.564828Z",
     "shell.execute_reply": "2020-11-17T07:22:33.564260Z"
    },
    "papermill": {
     "duration": 6.951285,
     "end_time": "2020-11-17T07:22:33.564963",
     "exception": false,
     "start_time": "2020-11-17T07:22:26.613678",
     "status": "completed"
    },
    "tags": []
   },
   "outputs": [],
   "source": [
    "tmp = np.load('Data/Disordered_Regions_Train_Dataset.npz')\n",
    "X = tmp['sequences']\n",
    "X = np.argmax(X,axis=-1)\n",
    "X_p = tmp['pssms']\n",
    "Y = tmp['regions']\n",
    "X_m = X!=0\n",
    "X_m = X_m.astype(np.int32)\n",
    "X_i = np.repeat(np.arange(1,X.shape[1]+1)[None,:], X.shape[0], axis=0)\n",
    "X_i[X==0] = 0\n",
    "max_len = X.shape[1]\n",
    "\n",
    "train_ids = []\n",
    "with open('Data/DM3000_id.txt') as f:\n",
    "    for l in f.readlines():\n",
    "        if l[:3] == 'Dis':\n",
    "            k = l.split('|')[1].split()[0]\n",
    "        else:\n",
    "            k = l.split()[0]\n",
    "        train_ids += [k]\n",
    "val_ids = []\n",
    "with open('Data/DM1229_id.txt') as f:\n",
    "    for l in f.readlines():\n",
    "        if l[:3] == 'Dis':\n",
    "            k = l.split('|')[1].split()[0]\n",
    "        else:\n",
    "            k = l.split()[0]\n",
    "        val_ids += [k]\n",
    "a = tmp['seq_ids']\n",
    "tr_ids_m = [True if i in train_ids else False for i in a]\n",
    "val_ids_m = [True if i in val_ids else False for i in a]\n",
    "len(val_ids),len(train_ids)"
   ]
  },
  {
   "cell_type": "code",
   "execution_count": null,
   "metadata": {},
   "outputs": [],
   "source": [
    "X_val = X[val_ids_m]\n",
    "X_m_val = X_m[val_ids_m]\n",
    "X_p_val = X_p[val_ids_m]\n",
    "X_i_val = X_i[val_ids_m]\n",
    "Y_val = Y[val_ids_m]\n",
    "X = X[tr_ids_m]\n",
    "X_m = X_m[tr_ids_m]\n",
    "X_p = X_p[tr_ids_m]\n",
    "X_i = X_i[tr_ids_m]\n",
    "Y = Y[tr_ids_m]\n"
   ]
  },
  {
   "cell_type": "code",
   "execution_count": null,
   "metadata": {
    "execution": {
     "iopub.execute_input": "2020-11-17T07:22:33.593096Z",
     "iopub.status.busy": "2020-11-17T07:22:33.592372Z",
     "iopub.status.idle": "2020-11-17T07:22:33.599238Z",
     "shell.execute_reply": "2020-11-17T07:22:33.599985Z"
    },
    "papermill": {
     "duration": 0.024541,
     "end_time": "2020-11-17T07:22:33.600144",
     "exception": false,
     "start_time": "2020-11-17T07:22:33.575603",
     "status": "completed"
    },
    "tags": []
   },
   "outputs": [],
   "source": [
    "try:\n",
    "    tpu = tf.distribute.cluster_resolver.TPUClusterResolver()\n",
    "    print('Running on TPU ', tpu.master())\n",
    "except ValueError:\n",
    "    tpu = None\n",
    "if tpu:\n",
    "    tf.config.experimental_connect_to_cluster(tpu)\n",
    "    tf.tpu.experimental.initialize_tpu_system(tpu)\n",
    "    strategy = tf.distribute.experimental.TPUStrategy(tpu)\n",
    "else:\n",
    "    strategy = tf.distribute.get_strategy()\n",
    "print(\"REPLICAS: \", strategy.num_replicas_in_sync)"
   ]
  },
  {
   "cell_type": "code",
   "execution_count": null,
   "metadata": {
    "execution": {
     "iopub.execute_input": "2020-11-17T07:22:33.641864Z",
     "iopub.status.busy": "2020-11-17T07:22:33.640306Z",
     "iopub.status.idle": "2020-11-17T07:22:33.643142Z",
     "shell.execute_reply": "2020-11-17T07:22:33.643687Z"
    },
    "papermill": {
     "duration": 0.031681,
     "end_time": "2020-11-17T07:22:33.643801",
     "exception": false,
     "start_time": "2020-11-17T07:22:33.612120",
     "status": "completed"
    },
    "tags": []
   },
   "outputs": [],
   "source": [
    "def shape_list(x):\n",
    "    tmp = list(K.int_shape(x))\n",
    "    tmp[0] = -1\n",
    "    return tmp\n",
    "\n",
    "def selfAttention(V, mask):\n",
    "    units = int(V.shape[2])\n",
    "    Q = tfk.layers.TimeDistributed( tfk.layers.Dense(units, activation=None, use_bias=True))(V)\n",
    "    K_ = tfk.layers.TimeDistributed( tfk.layers.Dense(units, activation=None, use_bias=True))(Q)\n",
    "    SoftAtten = tfk.layers.Dot(axes=-1, normalize=False)([Q, K_])\n",
    "    SoftAtten = tfk.layers.Multiply()([SoftAtten, mask])\n",
    "    SoftAtten = tfk.layers.Lambda(lambda inp: inp[0]/K.sqrt(K.cast(shape_list(inp[1])[-1], K.floatx())))([SoftAtten, V])\n",
    "    SoftAtten = tf.where(SoftAtten==0, 1e-6, SoftAtten)\n",
    "    SoftAtten = tfk.layers.Softmax(axis=-1)(SoftAtten)\n",
    "    V = tfk.layers.Permute([2,1])(V)\n",
    "    SA = tfk.layers.Dot(axes=-1, normalize=False)([SoftAtten, V])\n",
    "    return SA\n",
    "\n",
    "def _getPosEncodingMat(length, dim):\n",
    "    posEnc = np.array([[pos/np.power(10000, 2*(j//2)/dim) for j in range(dim)]\n",
    "                        if pos!=0 else np.zeros(dim) for pos in range(length)], dtype=np.float32)\n",
    "    posEnc[1:, 0::2] = np.sin(posEnc[1:, 0::2])\n",
    "    posEnc[1:, 1::2] = np.cos(posEnc[1:, 1::2])\n",
    "    return posEnc"
   ]
  },
  {
   "cell_type": "code",
   "execution_count": null,
   "metadata": {
    "execution": {
     "iopub.execute_input": "2020-11-17T07:22:33.681142Z",
     "iopub.status.busy": "2020-11-17T07:22:33.680191Z",
     "iopub.status.idle": "2020-11-17T07:22:36.065225Z",
     "shell.execute_reply": "2020-11-17T07:22:36.059751Z"
    },
    "papermill": {
     "duration": 2.409025,
     "end_time": "2020-11-17T07:22:36.065349",
     "exception": false,
     "start_time": "2020-11-17T07:22:33.656324",
     "status": "completed"
    },
    "scrolled": true,
    "tags": []
   },
   "outputs": [],
   "source": [
    "with strategy.scope():\n",
    "    input1 = tfk.layers.Input(shape=(max_len, ), name='sequence_input')\n",
    "    input2 = tfk.layers.Input(shape=(max_len, 20, ), name='pssm_input')\n",
    "    input3 = tfk.layers.Input(shape=(max_len, ), name='pid_input')\n",
    "    input4 = tfk.layers.Input(shape=(max_len, ), name='mask_input')\n",
    "    \n",
    "    emb = tfk.layers.Embedding(input_dim=24, output_dim=100, name='embds')(input1)\n",
    "    pidsEmbd = tfk.layers.Embedding(input_dim=max_len, output_dim=100, trainable=False, \n",
    "                                    weights=[_getPosEncodingMat(max_len, 100)], name='pids_embds')(input3)\n",
    "    emb = tfk.layers.Add(name='seq_embdAdd')([emb, pidsEmbd])\n",
    "    \n",
    "    x = tfk.layers.concatenate([emb, input2], axis=-1, name='con1')\n",
    "\n",
    "    x1 = tfk.layers.Conv1D( 100, 11, strides=1, padding='same', activation='relu', name='conv1')(x)\n",
    "    x2 = tfk.layers.Conv1D( 100, 7, strides=1, padding='same', activation='relu', name='conv2')(x)\n",
    "    x3 = tfk.layers.Conv1D( 100, 3, strides=1, padding='same', activation='relu', name='conv3')(x)\n",
    "    x4 = tfk.layers.Conv1D( 100, 1, strides=1, padding='same', activation='relu', name='conv4')(x)\n",
    "\n",
    "    x = tfk.layers.concatenate([x1, x2, x3,x4], axis=-1, name='con2')\n",
    "    xm = tfk.layers.Reshape((-1,1))(input4)\n",
    "    x = tfk.layers.Multiply()([x, xm])\n",
    "\n",
    "    model = tfk.layers.Bidirectional( tfk.layers.GRU(units=300, return_sequences=True), name='bigru1')(x)\n",
    "    model = tfk.layers.Bidirectional( tfk.layers.GRU(units=300, return_sequences=True), name='bigru2')(model)\n",
    "    model = tfk.layers.Bidirectional( tfk.layers.GRU(units=300, return_sequences=True), name='bigru3')(model)\n",
    "\n",
    "    model = tfk.layers.concatenate([model, x], axis=-1, name='con3')\n",
    "\n",
    "    model = tfk.layers.TimeDistributed( tfk.layers.Dense(200, activation='relu'), name='output1')(model)\n",
    "    model = tfk.layers.TimeDistributed( tfk.layers.Dense(200, activation='relu'), name='output2')(model)\n",
    "\n",
    "    output_5 = tfk.layers.TimeDistributed( tfk.layers.Dense(2, activation='softmax') ,name='output_3')(model)\n",
    "\n",
    "    model = tfk.models.Model([input1, input2, input3, input4], output_5 )\n",
    "    model.compile(loss='categorical_crossentropy', metrics=['acc'], optimizer='adam')\n",
    "\n",
    "    model.summary()"
   ]
  },
  {
   "cell_type": "code",
   "execution_count": null,
   "metadata": {
    "execution": {
     "iopub.execute_input": "2020-11-17T07:22:36.096535Z",
     "iopub.status.busy": "2020-11-17T07:22:36.095756Z",
     "iopub.status.idle": "2020-11-17T08:07:37.749109Z",
     "shell.execute_reply": "2020-11-17T08:07:37.749590Z"
    },
    "papermill": {
     "duration": 2701.671128,
     "end_time": "2020-11-17T08:07:37.749747",
     "exception": false,
     "start_time": "2020-11-17T07:22:36.078619",
     "status": "completed"
    },
    "tags": []
   },
   "outputs": [],
   "source": [
    "# model.fit([X,X_p,X_i,X_m],Y,verbose=1,batch_size=8,epochs=10)\n",
    "# model.save_weights('Weights/CGRN.h5')\n"
   ]
  },
  {
   "cell_type": "code",
   "execution_count": null,
   "metadata": {
    "execution": {
     "iopub.execute_input": "2020-11-17T08:07:39.850007Z",
     "iopub.status.busy": "2020-11-17T08:07:39.848968Z",
     "iopub.status.idle": "2020-11-17T08:07:48.777885Z",
     "shell.execute_reply": "2020-11-17T08:07:48.779164Z"
    },
    "papermill": {
     "duration": 9.991172,
     "end_time": "2020-11-17T08:07:48.779371",
     "exception": false,
     "start_time": "2020-11-17T08:07:38.788199",
     "status": "completed"
    },
    "tags": []
   },
   "outputs": [],
   "source": [
    "model.load_weights('Weights/CGRN.h5')\n",
    "\n",
    "preds = model.predict([X_val,X_p_val,X_i_val,X_m_val],verbose=1,batch_size=16)\n",
    "np.savez_compressed('cgrn-vals', val_tr=Y_val, val_pr=preds)"
   ]
  },
  {
   "cell_type": "code",
   "execution_count": null,
   "metadata": {},
   "outputs": [],
   "source": [
    "m = np.sum(Y_val, axis=-1)\n",
    "y_t = np.argmax(Y_val[m==1],axis=-1).flatten()\n",
    "y_p = np.argmax(preds[m==1],axis=-1).flatten()\n",
    "print(classification_report(y_t,y_p))\n",
    "t = confusion_matrix(y_t,y_p)\n",
    "print(t,accuracy_score(y_t,y_p))\n",
    "tp = np.array(t[1][1],dtype=np.float64)\n",
    "fp = np.array(t[1][0],dtype=np.float64)\n",
    "tn = np.array(t[0][0],dtype=np.float64)\n",
    "fn = np.array(t[0][1],dtype=np.float64)\n",
    "sp = tp/(tp+fn)\n",
    "sn = tn/(tn+fp)\n",
    "bacc = (sp+sn)/2\n",
    "mcc = ((tp*tn)-(fp*fn))/np.sqrt((tp+fp)*(tp+fn)*(tn+fp)*(tn+fn))\n",
    "sp,sn,bacc,mcc"
   ]
  },
  {
   "cell_type": "code",
   "execution_count": null,
   "metadata": {
    "execution": {
     "iopub.execute_input": "2020-11-17T08:07:54.101891Z",
     "iopub.status.busy": "2020-11-17T08:07:54.101238Z",
     "iopub.status.idle": "2020-11-17T08:07:54.700500Z",
     "shell.execute_reply": "2020-11-17T08:07:54.699738Z"
    },
    "papermill": {
     "duration": 1.901646,
     "end_time": "2020-11-17T08:07:54.700674",
     "exception": false,
     "start_time": "2020-11-17T08:07:52.799028",
     "status": "completed"
    },
    "tags": []
   },
   "outputs": [],
   "source": [
    "tmp = np.load('Data/Disordered_Regions_Test_Dataset.npz')\n",
    "test_ids = []\n",
    "with open('Data/SL329_id.txt') as f:\n",
    "    for l in f.readlines():\n",
    "        k = l.split('|')[1].split()[0]\n",
    "        test_ids += [k]\n",
    "te_ids_m = [True if i in test_ids else False for i in tmp['seq_ids']]\n",
    "X_te = np.argmax(tmp['sequences'],axis=-1)[te_ids_m]\n",
    "X_p_te = tmp['pssms'][te_ids_m]\n",
    "Y_te = tmp['regions'][te_ids_m]\n",
    "X_m_te = X_te!=0\n",
    "X_m_te = X_m_te.astype(np.int32)\n",
    "X_i_te = np.repeat(np.arange(1,X_te.shape[1]+1)[None,:], X_te.shape[0], axis=0)\n",
    "X_i_te[X_te==0] = 0"
   ]
  },
  {
   "cell_type": "code",
   "execution_count": null,
   "metadata": {
    "execution": {
     "iopub.execute_input": "2020-11-17T08:07:56.937283Z",
     "iopub.status.busy": "2020-11-17T08:07:56.935758Z",
     "iopub.status.idle": "2020-11-17T08:08:00.725888Z",
     "shell.execute_reply": "2020-11-17T08:08:00.726367Z"
    },
    "papermill": {
     "duration": 4.885985,
     "end_time": "2020-11-17T08:08:00.726574",
     "exception": false,
     "start_time": "2020-11-17T08:07:55.840589",
     "status": "completed"
    },
    "tags": []
   },
   "outputs": [],
   "source": [
    "preds = model.predict([X_te,X_p_te,X_i_te,X_m_te],verbose=1,batch_size=32)\n",
    "np.savez_compressed('cgrn-test', te_tr=Y_te, te_pr=preds)"
   ]
  },
  {
   "cell_type": "code",
   "execution_count": null,
   "metadata": {
    "execution": {
     "iopub.execute_input": "2020-11-17T08:08:02.845543Z",
     "iopub.status.busy": "2020-11-17T08:08:02.844557Z",
     "iopub.status.idle": "2020-11-17T08:08:03.209504Z",
     "shell.execute_reply": "2020-11-17T08:08:03.208307Z"
    },
    "papermill": {
     "duration": 1.428795,
     "end_time": "2020-11-17T08:08:03.209691",
     "exception": false,
     "start_time": "2020-11-17T08:08:01.780896",
     "status": "completed"
    },
    "tags": []
   },
   "outputs": [],
   "source": [
    "m = np.sum(Y_te, axis=-1)\n",
    "y_t = np.argmax(Y_te[m==1],axis=-1).flatten()\n",
    "y_p = np.argmax(preds[m==1],axis=-1).flatten()\n",
    "print(classification_report(y_t,y_p))\n",
    "t = confusion_matrix(y_t,y_p)\n",
    "print(t,accuracy_score(y_t,y_p))\n",
    "tp = np.array(t[1][1],dtype=np.float64)\n",
    "fp = np.array(t[1][0],dtype=np.float64)\n",
    "tn = np.array(t[0][0],dtype=np.float64)\n",
    "fn = np.array(t[0][1],dtype=np.float64)\n",
    "sp = tp/(tp+fn)\n",
    "sn = tn/(tn+fp)\n",
    "bacc = (sp+sn)/2\n",
    "mcc = ((tp*tn)-(fp*fn))/np.sqrt((tp+fp)*(tp+fn)*(tn+fp)*(tn+fn))\n",
    "sp,sn,bacc,mcc,f1_score(y_t,y_p,average='weighted')"
   ]
  },
  {
   "cell_type": "code",
   "execution_count": null,
   "metadata": {
    "papermill": {
     "duration": 1.093738,
     "end_time": "2020-11-17T08:08:07.792690",
     "exception": false,
     "start_time": "2020-11-17T08:08:06.698952",
     "status": "completed"
    },
    "tags": []
   },
   "outputs": [],
   "source": []
  }
 ],
 "metadata": {
  "kernelspec": {
   "display_name": "Python 3",
   "language": "python",
   "name": "python3"
  },
  "language_info": {
   "codemirror_mode": {
    "name": "ipython",
    "version": 3
   },
   "file_extension": ".py",
   "mimetype": "text/x-python",
   "name": "python",
   "nbconvert_exporter": "python",
   "pygments_lexer": "ipython3",
   "version": "3.8.5"
  },
  "papermill": {
   "duration": 2754.415366,
   "end_time": "2020-11-17T08:08:10.846032",
   "environment_variables": {},
   "exception": null,
   "input_path": "__notebook__.ipynb",
   "output_path": "__notebook__.ipynb",
   "parameters": {},
   "start_time": "2020-11-17T07:22:16.430666",
   "version": "2.1.0"
  }
 },
 "nbformat": 4,
 "nbformat_minor": 4
}
