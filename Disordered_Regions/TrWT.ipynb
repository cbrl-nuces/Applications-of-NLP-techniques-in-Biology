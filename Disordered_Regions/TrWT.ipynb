{
 "cells": [
  {
   "cell_type": "code",
   "execution_count": null,
   "metadata": {
    "execution": {
     "iopub.execute_input": "2021-03-10T10:59:43.365632Z",
     "iopub.status.busy": "2021-03-10T10:59:43.364932Z",
     "iopub.status.idle": "2021-03-10T10:59:48.968371Z",
     "shell.execute_reply": "2021-03-10T10:59:48.967418Z"
    },
    "papermill": {
     "duration": 5.619246,
     "end_time": "2021-03-10T10:59:48.968546",
     "exception": false,
     "start_time": "2021-03-10T10:59:43.349300",
     "status": "completed"
    },
    "tags": []
   },
   "outputs": [],
   "source": [
    "# import os\n",
    "# os.environ['CUDA_VISIBLE_DEVICES'] = \"2\"\n",
    "\n",
    "import tensorflow as tf\n",
    "import tensorflow.keras as tfk\n",
    "import tensorflow.keras.backend as K\n",
    "import numpy as np\n",
    "from tqdm.notebook import tqdm\n",
    "from sklearn.metrics import *\n"
   ]
  },
  {
   "cell_type": "code",
   "execution_count": null,
   "metadata": {},
   "outputs": [],
   "source": [
    "def get_sequence(row):\n",
    "    num_aminoAcids = {1:'A', 2:'C', 3:'E', 4:'D', 5:'G', 6:'F', 7:'I', 8:'H', 9:'K', 10:'M', 11:'L',\n",
    "                      12:'N', 13:'Q', 14:'P', 15:'S', 16:'R', 17:'T', 18:'W', 19:'V', 20:'Y', 21:'X'}\n",
    "    seq = ''\n",
    "    for i in row:\n",
    "        seq += num_aminoAcids[i] if i in num_aminoAcids else '-'\n",
    "    return seq\n",
    "\n",
    "def get_prob(row, patterns):\n",
    "    seq = get_sequence(row)\n",
    "    ss_I = {'L':0, 'B':1, 'E':2, 'G':3, 'I':4, 'H':5, 'S':6, 'T':7}\n",
    "    seq_probs = np.zeros((max_len, 8))\n",
    "    p = np.array(list('-'*len(seq)))\n",
    "    tmpList = []\n",
    "    for m in patterns:\n",
    "        tmps = np.array(list(seq))\n",
    "        tmp = np.arange(len(seq))\n",
    "        tmp = tmp[tmps == m[0]]\n",
    "        tk = int(m[3])\n",
    "        ss = m[2]\n",
    "        for ti in tmp:\n",
    "            if ti+tk < len(seq) and tmps[ti+tk] == m[1]:\n",
    "                tmpp = p.copy()\n",
    "                tmpp[ti:ti+tk+1] = ss\n",
    "                tmpList += [tmpp]\n",
    "    if len(tmpList) > 0:\n",
    "        tmpList = np.array(tmpList)\n",
    "        for ti in range(len(p)):\n",
    "            tmp = tmpList[:,ti]\n",
    "            tmp = tmp[tmp != '-']\n",
    "            if len(tmp) > 0:\n",
    "                a,b = np.unique(tmp,return_counts=True)\n",
    "                for tj in range(len(a)):\n",
    "                    seq_probs[ti, ss_I[a[tj]]] = b[tj]/len(tmp)\n",
    "    return seq_probs[None,:]\n"
   ]
  },
  {
   "cell_type": "code",
   "execution_count": null,
   "metadata": {
    "execution": {
     "iopub.execute_input": "2021-03-10T10:59:49.015293Z",
     "iopub.status.busy": "2021-03-10T10:59:49.014399Z",
     "iopub.status.idle": "2021-03-10T10:59:59.933792Z",
     "shell.execute_reply": "2021-03-10T10:59:59.934561Z"
    },
    "papermill": {
     "duration": 10.946656,
     "end_time": "2021-03-10T10:59:59.934759",
     "exception": false,
     "start_time": "2021-03-10T10:59:48.988103",
     "status": "completed"
    },
    "tags": []
   },
   "outputs": [],
   "source": [
    "tmp = np.load('Data/Disordered_Regions_Train_Dataset.npz')\n",
    "X = tmp['sequences']\n",
    "X = np.argmax(X,axis=-1)\n",
    "X_p = tmp['pssms']\n",
    "Y = tmp['regions']\n",
    "X_m = X!=0\n",
    "X_m = X_m.astype(np.int32)\n",
    "X_i = np.repeat(np.arange(1,X.shape[1]+1)[None,:], X.shape[0], axis=0)\n",
    "X_i[X==0] = 0\n",
    "max_len = X.shape[1]\n",
    "\n",
    "train_ids = []\n",
    "with open('Data/DM3000_id.txt') as f:\n",
    "    for l in f.readlines():\n",
    "        if l[:3] == 'Dis':\n",
    "            k = l.split('|')[1].split()[0]\n",
    "        else:\n",
    "            k = l.split()[0]\n",
    "        train_ids += [k]\n",
    "val_ids = []\n",
    "with open('Data/DM1229_id.txt') as f:\n",
    "    for l in f.readlines():\n",
    "        if l[:3] == 'Dis':\n",
    "            k = l.split('|')[1].split()[0]\n",
    "        else:\n",
    "            k = l.split()[0]\n",
    "        val_ids += [k]\n",
    "a = tmp['seq_ids']\n",
    "tr_ids_m = [True if i in train_ids else False for i in a]\n",
    "val_ids_m = [True if i in val_ids else False for i in a]\n",
    "\n",
    "tmp = np.load('Data/Secondary_Structure_Motif_Antimotif.npz')\n",
    "motifs = tmp['motifs']\n",
    "antimotifs = tmp['antimotifs']\n",
    "X_mp = get_prob(X[0],motifs)\n",
    "X_am = get_prob(X[0],antimotifs)\n",
    "for i in tqdm(X[1:]):\n",
    "    X_mp = np.append(X_mp, get_prob(i,motifs), axis=0)\n",
    "    X_am = np.append(X_am, get_prob(i,antimotifs), axis=0)\n",
    "X_ss = np.argmax(X_mp+X_am,axis=-1)\n",
    "\n",
    "len(val_ids),len(train_ids)"
   ]
  },
  {
   "cell_type": "code",
   "execution_count": null,
   "metadata": {
    "execution": {
     "iopub.execute_input": "2021-03-10T10:59:59.980347Z",
     "iopub.status.busy": "2021-03-10T10:59:59.979461Z",
     "iopub.status.idle": "2021-03-10T10:59:59.989908Z",
     "shell.execute_reply": "2021-03-10T10:59:59.990980Z"
    },
    "papermill": {
     "duration": 0.039393,
     "end_time": "2021-03-10T10:59:59.991129",
     "exception": false,
     "start_time": "2021-03-10T10:59:59.951736",
     "status": "completed"
    },
    "tags": []
   },
   "outputs": [],
   "source": [
    "X_val = X[val_ids_m]\n",
    "X_m_val = X_m[val_ids_m]\n",
    "X_p_val = X_p[val_ids_m]\n",
    "X_i_val = X_i[val_ids_m]\n",
    "X_mp_val = X_mp[val_ids_m]\n",
    "X_am_val = X_am[val_ids_m]\n",
    "X_ss_val = X_ss[val_ids_m]\n",
    "Y_val = Y[val_ids_m]\n",
    "\n",
    "X = X[tr_ids_m]\n",
    "X_m = X_m[tr_ids_m]\n",
    "X_p = X_p[tr_ids_m]\n",
    "X_i = X_i[tr_ids_m]\n",
    "X_mp = X_mp[tr_ids_m]\n",
    "X_am = X_am[tr_ids_m]\n",
    "X_ss = X_ss[tr_ids_m]\n",
    "Y = Y[tr_ids_m]\n"
   ]
  },
  {
   "cell_type": "code",
   "execution_count": null,
   "metadata": {
    "execution": {
     "iopub.execute_input": "2021-03-10T11:00:00.039106Z",
     "iopub.status.busy": "2021-03-10T11:00:00.037862Z",
     "iopub.status.idle": "2021-03-10T11:00:00.048496Z",
     "shell.execute_reply": "2021-03-10T11:00:00.049264Z"
    },
    "papermill": {
     "duration": 0.039766,
     "end_time": "2021-03-10T11:00:00.049418",
     "exception": false,
     "start_time": "2021-03-10T11:00:00.009652",
     "status": "completed"
    },
    "tags": []
   },
   "outputs": [],
   "source": [
    "try:\n",
    "    tpu = tf.distribute.cluster_resolver.TPUClusterResolver()\n",
    "    print('Running on TPU ', tpu.master())\n",
    "except ValueError:\n",
    "    tpu = None\n",
    "if tpu:\n",
    "    tf.config.experimental_connect_to_cluster(tpu)\n",
    "    tf.tpu.experimental.initialize_tpu_system(tpu)\n",
    "    strategy = tf.distribute.experimental.TPUStrategy(tpu)\n",
    "else:\n",
    "    strategy = tf.distribute.get_strategy()\n",
    "print(\"REPLICAS: \", strategy.num_replicas_in_sync)"
   ]
  },
  {
   "cell_type": "code",
   "execution_count": null,
   "metadata": {
    "execution": {
     "iopub.execute_input": "2021-03-10T11:00:00.097183Z",
     "iopub.status.busy": "2021-03-10T11:00:00.096096Z",
     "iopub.status.idle": "2021-03-10T11:00:00.141949Z",
     "shell.execute_reply": "2021-03-10T11:00:00.142970Z"
    },
    "papermill": {
     "duration": 0.074933,
     "end_time": "2021-03-10T11:00:00.143114",
     "exception": false,
     "start_time": "2021-03-10T11:00:00.068181",
     "status": "completed"
    },
    "tags": []
   },
   "outputs": [],
   "source": [
    "def shape_list(x):\n",
    "    tmp = list(K.int_shape(x))\n",
    "    tmp[0] = -1\n",
    "    return tmp\n",
    "\n",
    "def dot_product_attention(q, k, v):\n",
    "    depth = K.int_shape(q)[-1]\n",
    "    dots = tf.matmul(q, k, transpose_b=True) /  tf.sqrt(float(depth))\n",
    "    logsumexp = tf.math.reduce_logsumexp(dots, axis=-1, keepdims=True)\n",
    "    dots = tf.exp(dots - logsumexp)\n",
    "    attn = tf.matmul(dots, v)\n",
    "    return attn\n",
    "\n",
    "def prepare_dpa(x, n_heads, d_head):\n",
    "    s_l = K.int_shape(x)[1]\n",
    "    x = tf.reshape(x, (-1, s_l, n_heads, d_head))\n",
    "    x = tf.transpose(x, (0, 2, 1, 3))\n",
    "    x = tf.reshape(x, (-1, s_l, d_head))\n",
    "    return x\n",
    "\n",
    "def post_dpa(x, n_heads, d_head):\n",
    "    s_l = K.int_shape(x)[1]\n",
    "    x = tf.reshape(x, (-1, n_heads, s_l, d_head))\n",
    "    x = tf.reshape(x, (-1, s_l, n_heads*d_head))\n",
    "    return x\n",
    "\n",
    "def enc_dec_attention(x, y, d_feat, n_heads):\n",
    "    d_head = d_feat // n_heads\n",
    "    q = tfk.layers.TimeDistributed(tfk.layers.Dense(d_feat))(y)\n",
    "    q = prepare_dpa(q, n_heads, d_head)\n",
    "    k = tfk.layers.TimeDistributed(tfk.layers.Dense(d_feat))(x)\n",
    "    k = prepare_dpa(k, n_heads, d_head)\n",
    "    v = tfk.layers.TimeDistributed(tfk.layers.Dense(d_feat))(x)\n",
    "    v = prepare_dpa(v, n_heads, d_head)\n",
    "    x = dot_product_attention(q, k, v)\n",
    "    x = post_dpa(x, n_heads, d_head)\n",
    "    return x\n",
    "\n",
    "def casual_attention(x, d_feat, n_heads):\n",
    "    d_head = d_feat // n_heads\n",
    "    q = tfk.layers.TimeDistributed(tfk.layers.Dense(d_feat))(x)\n",
    "    q = prepare_dpa(q, n_heads, d_head)\n",
    "    k = tfk.layers.TimeDistributed(tfk.layers.Dense(d_feat))(x)\n",
    "    k = prepare_dpa(k, n_heads, d_head)\n",
    "    v = tfk.layers.TimeDistributed(tfk.layers.Dense(d_feat))(x)\n",
    "    v = prepare_dpa(v, n_heads, d_head)\n",
    "    x = dot_product_attention(q, k, v)\n",
    "    x = post_dpa(x, n_heads, d_head)\n",
    "    return x\n",
    "\n",
    "def feed_forward(x, n_units, d_ff, d_rate):\n",
    "    x = tfk.layers.LayerNormalization()(x)\n",
    "    x = tfk.layers.TimeDistributed(tfk.layers.Dense(d_ff, activation='relu'))(x)\n",
    "    x = tfk.layers.Dropout(d_rate)(x)\n",
    "    x = tfk.layers.TimeDistributed(tfk.layers.Dense(n_units, activation='relu'))(x)\n",
    "    x = tfk.layers.Dropout(d_rate)(x)\n",
    "    return x\n",
    "\n",
    "def decoder_block(x, z, n_units, d_ff, n_heads, d_rate):\n",
    "    x = tfk.layers.LayerNormalization()(x)\n",
    "    y = casual_attention(x, n_units, n_heads)\n",
    "    y = tfk.layers.Dropout(d_rate)(y)\n",
    "    x = tfk.layers.add([x,y])\n",
    "    x = tfk.layers.LayerNormalization()(x)\n",
    "    y = enc_dec_attention(z, x, n_units, n_heads)\n",
    "    y = tfk.layers.Dropout(d_rate)(y)\n",
    "    x = tfk.layers.add([x,y])\n",
    "    y = feed_forward(x, n_units, d_ff, d_rate)\n",
    "    y = tfk.layers.add([x,y])\n",
    "    return y\n",
    "\n",
    "def encoder_block(x, n_units, d_ff, n_heads, d_rate):\n",
    "    x = tfk.layers.LayerNormalization()(x)\n",
    "    y = casual_attention(x, n_units, n_heads)\n",
    "    y = tfk.layers.Dropout(d_rate)(y)\n",
    "    x = tfk.layers.add([x,y])\n",
    "    y = feed_forward(x, n_units, d_ff, d_rate)\n",
    "    y = tfk.layers.add([x,y])\n",
    "    return y\n",
    "\n",
    "def _getPosEncodingMat(length, dim):\n",
    "    posEnc = np.array([[pos/np.power(10000, 2*(j//2)/dim) for j in range(dim)]\n",
    "                        if pos!=0 else np.zeros(dim) for pos in range(length)], dtype=np.float32)\n",
    "    posEnc[1:, 0::2] = np.sin(posEnc[1:, 0::2])\n",
    "    posEnc[1:, 1::2] = np.cos(posEnc[1:, 1::2])\n",
    "    return posEnc"
   ]
  },
  {
   "cell_type": "code",
   "execution_count": null,
   "metadata": {
    "execution": {
     "iopub.execute_input": "2021-03-10T11:00:00.188871Z",
     "iopub.status.busy": "2021-03-10T11:00:00.188087Z",
     "iopub.status.idle": "2021-03-10T11:00:02.628654Z",
     "shell.execute_reply": "2021-03-10T11:00:02.629147Z"
    },
    "papermill": {
     "duration": 2.468234,
     "end_time": "2021-03-10T11:00:02.629282",
     "exception": false,
     "start_time": "2021-03-10T11:00:00.161048",
     "status": "completed"
    },
    "tags": []
   },
   "outputs": [],
   "source": [
    "with strategy.scope():\n",
    "    input1 = tfk.layers.Input(shape=(max_len, ), name='sequence_input')\n",
    "    input2 = tfk.layers.Input(shape=(max_len, ), name='pids_input')\n",
    "    input3 = tfk.layers.Input(shape=(max_len, 20, ), name='pssm_input')\n",
    "    input4 = tfk.layers.Input(shape=(max_len, 8, ), name='motif_input')\n",
    "    input5 = tfk.layers.Input(shape=(max_len, 8, ), name='amotif_input')\n",
    "    input6 = tfk.layers.Input(shape=(max_len, ), name='ss_input')\n",
    "    input7 = tfk.layers.Input(shape=(max_len, 1, ), name='mask_input')\n",
    "    \n",
    "    pidsEmbd = tfk.layers.Embedding(input_dim=max_len, output_dim=100, trainable=False,\n",
    "                                  weights=[_getPosEncodingMat(max_len, 100)], name='pids_embds')(input2)\n",
    "    seqEmbd = tfk.layers.Embedding(input_dim=24, output_dim=100, trainable=False,# weights=[emb_weights],\n",
    "                                   name='seq_embds')(input1)\n",
    "    x = tfk.layers.Add(name='seq_embdAdd')([seqEmbd, pidsEmbd])\n",
    "    x = tfk.layers.concatenate([x, input3])\n",
    "    x = tfk.layers.TimeDistributed(tfk.layers.Dense(100, activation=None))(x)\n",
    "    x = tfk.layers.Multiply()([x,input7])\n",
    "    \n",
    "    ssEmbd = tfk.layers.Embedding(input_dim=8, output_dim=100, name='ss_embds')(input6)\n",
    "    y = tfk.layers.Add(name='ss_embdAdd')([ssEmbd, pidsEmbd])\n",
    "    y = tfk.layers.concatenate([y, input4, input5])\n",
    "    y = tfk.layers.TimeDistributed(tfk.layers.Dense(100, activation=None))(y)\n",
    "    y = tfk.layers.Multiply()([y,input7])\n",
    "    \n",
    "    for _ in range(3):\n",
    "        x = encoder_block(x, 100, 256, 4, 0.2)\n",
    "    for _ in range(3):\n",
    "        y = decoder_block(y, x, 100, 256, 4, 0.2)\n",
    "    output = tfk.layers.TimeDistributed( tfk.layers.Dense(128, activation='relu'))(y)\n",
    "    output = tfk.layers.TimeDistributed( tfk.layers.Dense(128, activation='relu'))(output)\n",
    "    output = tfk.layers.TimeDistributed( tfk.layers.Dense(2, activation='softmax'),name='output')(output)\n",
    "    \n",
    "    model = tfk.models.Model([input1, input2, input3, input4, input5, input6, input7], output)\n",
    "    model.compile(loss='categorical_crossentropy', metrics=['categorical_accuracy'], optimizer='adam')\n",
    "    model.summary()"
   ]
  },
  {
   "cell_type": "code",
   "execution_count": null,
   "metadata": {
    "execution": {
     "iopub.execute_input": "2021-03-10T11:00:02.678957Z",
     "iopub.status.busy": "2021-03-10T11:00:02.677867Z",
     "iopub.status.idle": "2021-03-10T13:17:47.353394Z",
     "shell.execute_reply": "2021-03-10T13:17:47.352981Z"
    },
    "papermill": {
     "duration": 8264.703641,
     "end_time": "2021-03-10T13:17:47.353492",
     "exception": false,
     "start_time": "2021-03-10T11:00:02.649851",
     "status": "completed"
    },
    "scrolled": true,
    "tags": []
   },
   "outputs": [],
   "source": [
    "# model.fit([X,X_i,X_p,X_mp,X_am,X_ss,X_m],Y,verbose=1,batch_size=8,epochs=50)\n",
    "# model.save_weights('Weights/TrWT.h5')\n"
   ]
  },
  {
   "cell_type": "code",
   "execution_count": null,
   "metadata": {
    "execution": {
     "iopub.execute_input": "2021-03-10T13:18:08.939030Z",
     "iopub.status.busy": "2021-03-10T13:18:08.938429Z",
     "iopub.status.idle": "2021-03-10T13:18:09.101782Z",
     "shell.execute_reply": "2021-03-10T13:18:09.100599Z"
    },
    "papermill": {
     "duration": 10.910161,
     "end_time": "2021-03-10T13:18:09.101879",
     "exception": false,
     "start_time": "2021-03-10T13:17:58.191718",
     "status": "completed"
    },
    "tags": []
   },
   "outputs": [],
   "source": [
    "model.load_weights('Weights/TrWT.h5')"
   ]
  },
  {
   "cell_type": "code",
   "execution_count": null,
   "metadata": {
    "execution": {
     "iopub.execute_input": "2021-03-10T13:18:30.799656Z",
     "iopub.status.busy": "2021-03-10T13:18:30.798651Z",
     "iopub.status.idle": "2021-03-10T13:18:57.910011Z",
     "shell.execute_reply": "2021-03-10T13:18:57.910707Z"
    },
    "papermill": {
     "duration": 38.271507,
     "end_time": "2021-03-10T13:18:57.910873",
     "exception": false,
     "start_time": "2021-03-10T13:18:19.639366",
     "status": "completed"
    },
    "tags": []
   },
   "outputs": [],
   "source": [
    "preds = model.predict([X_val,X_i_val,X_p_val,X_mp_val,X_am_val,X_ss_val,X_m_val],verbose=1,batch_size=4)\n",
    "np.savez_compressed('trwt-vals', val_tr=Y_val, val_pr=preds)"
   ]
  },
  {
   "cell_type": "code",
   "execution_count": null,
   "metadata": {},
   "outputs": [],
   "source": [
    "m = np.sum(Y_val, axis=-1)\n",
    "y_t = np.argmax(Y_val[m==1],axis=-1).flatten()\n",
    "y_p = np.argmax(preds[m==1],axis=-1).flatten()\n",
    "print(classification_report(y_t,y_p))\n",
    "t = confusion_matrix(y_t,y_p)\n",
    "print(t,accuracy_score(y_t,y_p))\n",
    "tp = np.array(t[1][1],dtype=np.float64)\n",
    "fp = np.array(t[1][0],dtype=np.float64)\n",
    "tn = np.array(t[0][0],dtype=np.float64)\n",
    "fn = np.array(t[0][1],dtype=np.float64)\n",
    "sp = tp/(tp+fn)\n",
    "sn = tn/(tn+fp)\n",
    "bacc = (sp+sn)/2\n",
    "mcc = ((tp*tn)-(fp*fn))/np.sqrt((tp+fp)*(tp+fn)*(tn+fp)*(tn+fn))\n",
    "sp,sn,bacc,mcc"
   ]
  },
  {
   "cell_type": "code",
   "execution_count": null,
   "metadata": {
    "execution": {
     "iopub.execute_input": "2021-03-10T13:20:02.725557Z",
     "iopub.status.busy": "2021-03-10T13:20:02.725037Z",
     "iopub.status.idle": "2021-03-10T13:20:03.808257Z",
     "shell.execute_reply": "2021-03-10T13:20:03.806804Z"
    },
    "papermill": {
     "duration": 11.992931,
     "end_time": "2021-03-10T13:20:03.808422",
     "exception": false,
     "start_time": "2021-03-10T13:19:51.815491",
     "status": "completed"
    },
    "tags": []
   },
   "outputs": [],
   "source": [
    "tmp = np.load('Data/Disordered_Regions_Test_Dataset.npz')\n",
    "test_ids = []\n",
    "with open('Data/SL329_id.txt') as f:\n",
    "    for l in f.readlines():\n",
    "        k = l.split('|')[1].split()[0]\n",
    "        test_ids += [k]\n",
    "te_ids_m = [True if i in test_ids else False for i in tmp['seq_ids']]\n",
    "X_te = np.argmax(tmp['sequences'],axis=-1)[te_ids_m]\n",
    "X_p_te = tmp['pssms'][te_ids_m]\n",
    "Y_te = tmp['regions'][te_ids_m]\n",
    "X_m_te = X_te!=0\n",
    "X_m_te = X_m_te.astype(np.int32)\n",
    "X_i_te = np.repeat(np.arange(1,X_te.shape[1]+1)[None,:], X_te.shape[0], axis=0)\n",
    "X_i_te[X_te==0] = 0\n",
    "\n",
    "X_mp_te = get_prob(X_te[0],motifs)\n",
    "X_am_te = get_prob(X_te[0],antimotifs)\n",
    "for i in tqdm(X_te[1:]):\n",
    "    X_mp_te = np.append(X_mp_te, get_prob(i,motifs), axis=0)\n",
    "    X_am_te = np.append(X_am_te, get_prob(i,antimotifs), axis=0)\n",
    "X_ss_te = np.argmax(X_mp_te+X_am_te,axis=-1)\n"
   ]
  },
  {
   "cell_type": "code",
   "execution_count": null,
   "metadata": {
    "execution": {
     "iopub.execute_input": "2021-03-10T13:20:24.942197Z",
     "iopub.status.busy": "2021-03-10T13:20:24.941246Z",
     "iopub.status.idle": "2021-03-10T13:20:34.840818Z",
     "shell.execute_reply": "2021-03-10T13:20:34.840329Z"
    },
    "papermill": {
     "duration": 20.371829,
     "end_time": "2021-03-10T13:20:34.840909",
     "exception": false,
     "start_time": "2021-03-10T13:20:14.469080",
     "status": "completed"
    },
    "tags": []
   },
   "outputs": [],
   "source": [
    "preds = model.predict([X_te,X_i_te,X_p_te,X_mp_te,X_am_te,X_ss_te,X_m_te],verbose=1,batch_size=4)\n",
    "np.savez_compressed('trwt-test', te_tr=Y_te, te_pr=preds)"
   ]
  },
  {
   "cell_type": "code",
   "execution_count": null,
   "metadata": {},
   "outputs": [],
   "source": [
    "m = np.sum(Y_te, axis=-1)\n",
    "y_t = np.argmax(Y_te[m==1],axis=-1).flatten()\n",
    "y_p = np.argmax(preds[m==1],axis=-1).flatten()\n",
    "print(classification_report(y_t,y_p))\n",
    "t = confusion_matrix(y_t,y_p)\n",
    "print(t,accuracy_score(y_t,y_p))\n",
    "tp = np.array(t[1][1],dtype=np.float64)\n",
    "fp = np.array(t[1][0],dtype=np.float64)\n",
    "tn = np.array(t[0][0],dtype=np.float64)\n",
    "fn = np.array(t[0][1],dtype=np.float64)\n",
    "sp = tp/(tp+fn)\n",
    "sn = tn/(tn+fp)\n",
    "bacc = (sp+sn)/2\n",
    "mcc = ((tp*tn)-(fp*fn))/np.sqrt((tp+fp)*(tp+fn)*(tn+fp)*(tn+fn))\n",
    "sp,sn,bacc,mcc,f1_score(y_t,y_p,average='weighted')"
   ]
  },
  {
   "cell_type": "code",
   "execution_count": null,
   "metadata": {},
   "outputs": [],
   "source": []
  }
 ],
 "metadata": {
  "kernelspec": {
   "display_name": "Python 3",
   "language": "python",
   "name": "python3"
  },
  "language_info": {
   "codemirror_mode": {
    "name": "ipython",
    "version": 3
   },
   "file_extension": ".py",
   "mimetype": "text/x-python",
   "name": "python",
   "nbconvert_exporter": "python",
   "pygments_lexer": "ipython3",
   "version": "3.8.5"
  },
  "papermill": {
   "duration": 8554.880262,
   "end_time": "2021-03-10T13:22:14.540122",
   "environment_variables": {},
   "exception": null,
   "input_path": "__notebook__.ipynb",
   "output_path": "__notebook__.ipynb",
   "parameters": {},
   "start_time": "2021-03-10T10:59:39.659860",
   "version": "2.1.0"
  }
 },
 "nbformat": 4,
 "nbformat_minor": 4
}
