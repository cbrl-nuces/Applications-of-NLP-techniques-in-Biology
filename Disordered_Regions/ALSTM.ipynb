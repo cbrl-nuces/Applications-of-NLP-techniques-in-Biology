{
 "cells": [
  {
   "cell_type": "code",
   "execution_count": null,
   "metadata": {
    "execution": {
     "iopub.execute_input": "2020-11-17T08:00:46.097288Z",
     "iopub.status.busy": "2020-11-17T08:00:46.096423Z",
     "iopub.status.idle": "2020-11-17T08:00:51.866836Z",
     "shell.execute_reply": "2020-11-17T08:00:51.865292Z"
    },
    "papermill": {
     "duration": 5.788829,
     "end_time": "2020-11-17T08:00:51.867006",
     "exception": false,
     "start_time": "2020-11-17T08:00:46.078177",
     "status": "completed"
    },
    "tags": []
   },
   "outputs": [],
   "source": [
    "# import os\n",
    "# os.environ['CUDA_VISIBLE_DEVICES'] = \"1\"\n",
    "\n",
    "import tensorflow as tf\n",
    "import tensorflow.keras as tfk\n",
    "import tensorflow.keras.backend as K\n",
    "import numpy as np\n",
    "from tqdm.notebook import tqdm\n",
    "from sklearn.metrics import *\n"
   ]
  },
  {
   "cell_type": "code",
   "execution_count": null,
   "metadata": {
    "execution": {
     "iopub.execute_input": "2020-11-17T08:00:51.952451Z",
     "iopub.status.busy": "2020-11-17T08:00:51.951709Z",
     "iopub.status.idle": "2020-11-17T08:00:58.847621Z",
     "shell.execute_reply": "2020-11-17T08:00:58.846997Z"
    },
    "papermill": {
     "duration": 6.961709,
     "end_time": "2020-11-17T08:00:58.847751",
     "exception": false,
     "start_time": "2020-11-17T08:00:51.886042",
     "status": "completed"
    },
    "tags": []
   },
   "outputs": [],
   "source": [
    "tmp = np.load('Data/Disordered_Regions_Train_Dataset.npz')\n",
    "X = tmp['sequences']\n",
    "X = np.argmax(X,axis=-1)\n",
    "X_p = tmp['pssms']\n",
    "Y = tmp['regions']\n",
    "X_m = X!=0\n",
    "X_m = X_m.astype(np.int32)\n",
    "X_i = np.repeat(np.arange(1,X.shape[1]+1)[None,:], X.shape[0], axis=0)\n",
    "X_i[X==0] = 0\n",
    "max_len = X.shape[1]\n",
    "\n",
    "train_ids = []\n",
    "with open('Data/DM3000_id.txt') as f:\n",
    "    for l in f.readlines():\n",
    "        if l[:3] == 'Dis':\n",
    "            k = l.split('|')[1].split()[0]\n",
    "        else:\n",
    "            k = l.split()[0]\n",
    "        train_ids += [k]\n",
    "val_ids = []\n",
    "with open('Data/DM1229_id.txt') as f:\n",
    "    for l in f.readlines():\n",
    "        if l[:3] == 'Dis':\n",
    "            k = l.split('|')[1].split()[0]\n",
    "        else:\n",
    "            k = l.split()[0]\n",
    "        val_ids += [k]\n",
    "a = tmp['seq_ids']\n",
    "tr_ids_m = [True if i in train_ids else False for i in a]\n",
    "val_ids_m = [True if i in val_ids else False for i in a]\n",
    "len(val_ids),len(train_ids)"
   ]
  },
  {
   "cell_type": "code",
   "execution_count": null,
   "metadata": {
    "execution": {
     "iopub.execute_input": "2020-11-17T08:00:58.879503Z",
     "iopub.status.busy": "2020-11-17T08:00:58.878797Z",
     "iopub.status.idle": "2020-11-17T08:00:58.889542Z",
     "shell.execute_reply": "2020-11-17T08:00:58.888953Z"
    },
    "papermill": {
     "duration": 0.029585,
     "end_time": "2020-11-17T08:00:58.889641",
     "exception": false,
     "start_time": "2020-11-17T08:00:58.860056",
     "status": "completed"
    },
    "tags": []
   },
   "outputs": [],
   "source": [
    "X_val = X[val_ids_m]\n",
    "X_m_val = X_m[val_ids_m]\n",
    "X_p_val = X_p[val_ids_m]\n",
    "X_i_val = X_i[val_ids_m]\n",
    "Y_val = Y[val_ids_m]\n",
    "X = X[tr_ids_m]\n",
    "X_m = X_m[tr_ids_m]\n",
    "X_p = X_p[tr_ids_m]\n",
    "X_i = X_i[tr_ids_m]\n",
    "Y = Y[tr_ids_m]\n"
   ]
  },
  {
   "cell_type": "code",
   "execution_count": null,
   "metadata": {
    "execution": {
     "iopub.execute_input": "2020-11-17T08:00:58.923113Z",
     "iopub.status.busy": "2020-11-17T08:00:58.922181Z",
     "iopub.status.idle": "2020-11-17T08:00:58.928943Z",
     "shell.execute_reply": "2020-11-17T08:00:58.928133Z"
    },
    "papermill": {
     "duration": 0.026152,
     "end_time": "2020-11-17T08:00:58.929080",
     "exception": false,
     "start_time": "2020-11-17T08:00:58.902928",
     "status": "completed"
    },
    "tags": []
   },
   "outputs": [],
   "source": [
    "try:\n",
    "    tpu = tf.distribute.cluster_resolver.TPUClusterResolver()\n",
    "    print('Running on TPU ', tpu.master())\n",
    "except ValueError:\n",
    "    tpu = None\n",
    "if tpu:\n",
    "    tf.config.experimental_connect_to_cluster(tpu)\n",
    "    tf.tpu.experimental.initialize_tpu_system(tpu)\n",
    "    strategy = tf.distribute.experimental.TPUStrategy(tpu)\n",
    "else:\n",
    "    strategy = tf.distribute.get_strategy()\n",
    "print(\"REPLICAS: \", strategy.num_replicas_in_sync)"
   ]
  },
  {
   "cell_type": "code",
   "execution_count": null,
   "metadata": {
    "execution": {
     "iopub.execute_input": "2020-11-17T08:00:58.973174Z",
     "iopub.status.busy": "2020-11-17T08:00:58.971747Z",
     "iopub.status.idle": "2020-11-17T08:00:58.974218Z",
     "shell.execute_reply": "2020-11-17T08:00:58.974711Z"
    },
    "papermill": {
     "duration": 0.032342,
     "end_time": "2020-11-17T08:00:58.974815",
     "exception": false,
     "start_time": "2020-11-17T08:00:58.942473",
     "status": "completed"
    },
    "tags": []
   },
   "outputs": [],
   "source": [
    "def shape_list(x):\n",
    "    tmp = list(K.int_shape(x))\n",
    "    tmp[0] = -1\n",
    "    return tmp\n",
    "\n",
    "def selfAttention(V, mask):\n",
    "    units = int(V.shape[2])\n",
    "    Q = tfk.layers.TimeDistributed( tfk.layers.Dense(units, activation=None, use_bias=True))(V)\n",
    "    K_ = tfk.layers.TimeDistributed( tfk.layers.Dense(units, activation=None, use_bias=True))(Q)\n",
    "    SoftAtten = tfk.layers.Dot(axes=-1, normalize=False)([Q, K_])\n",
    "    SoftAtten = tfk.layers.Multiply()([SoftAtten, mask])\n",
    "    SoftAtten = tfk.layers.Lambda(lambda inp: inp[0]/K.sqrt(K.cast(shape_list(inp[1])[-1], K.floatx())))([SoftAtten, V])\n",
    "    SoftAtten = tf.where(SoftAtten==0, 1e-6, SoftAtten)\n",
    "    SoftAtten = tfk.layers.Softmax(axis=-1)(SoftAtten)\n",
    "    V = tfk.layers.Permute([2,1])(V)\n",
    "    SA = tfk.layers.Dot(axes=-1, normalize=False)([SoftAtten, V])\n",
    "    return SA\n",
    "\n",
    "def _getPosEncodingMat(length, dim):\n",
    "    posEnc = np.array([[pos/np.power(10000, 2*(j//2)/dim) for j in range(dim)]\n",
    "                        if pos!=0 else np.zeros(dim) for pos in range(length)], dtype=np.float32)\n",
    "    posEnc[1:, 0::2] = np.sin(posEnc[1:, 0::2])\n",
    "    posEnc[1:, 1::2] = np.cos(posEnc[1:, 1::2])\n",
    "    return posEnc"
   ]
  },
  {
   "cell_type": "code",
   "execution_count": null,
   "metadata": {
    "execution": {
     "iopub.execute_input": "2020-11-17T08:00:59.015723Z",
     "iopub.status.busy": "2020-11-17T08:00:59.012019Z",
     "iopub.status.idle": "2020-11-17T08:01:01.043378Z",
     "shell.execute_reply": "2020-11-17T08:01:01.042593Z"
    },
    "papermill": {
     "duration": 2.056449,
     "end_time": "2020-11-17T08:01:01.043528",
     "exception": false,
     "start_time": "2020-11-17T08:00:58.987079",
     "status": "completed"
    },
    "scrolled": true,
    "tags": []
   },
   "outputs": [],
   "source": [
    "with strategy.scope():\n",
    "    input1 = tfk.layers.Input(shape=(max_len, ), name='sequence_input')\n",
    "    input2 = tfk.layers.Input(shape=(max_len, 20, ), name='pssm_input')\n",
    "    input3 = tfk.layers.Input(shape=(max_len, ), name='pid_input')\n",
    "    input4 = tfk.layers.Input(shape=(max_len, ), name='mask_input')\n",
    "    \n",
    "    emb = tfk.layers.Embedding(input_dim=24, output_dim=100, name='embds')(input1)\n",
    "    pidsEmbd = tfk.layers.Embedding(input_dim=max_len, output_dim=100, trainable=False, \n",
    "                                    weights=[_getPosEncodingMat(max_len, 100)], name='pids_embds')(input3)\n",
    "    emb = tfk.layers.Add(name='seq_embdAdd')([emb, pidsEmbd])\n",
    "    xm = tfk.layers.Reshape((-1,1))(input4)\n",
    "    \n",
    "    x = tfk.layers.LSTM(units=100, return_sequences=True, name='lstm1')(emb)\n",
    "    x = tfk.layers.concatenate([x, input2], axis=-1, name='con1')\n",
    "\n",
    "    model = selfAttention(x,xm)\n",
    "\n",
    "    model = tfk.layers.Bidirectional( tfk.layers.LSTM(units=100, return_sequences=True), name='lstm2')(model)\n",
    "    \n",
    "    model = tfk.layers.TimeDistributed( tfk.layers.Dense(200, activation='relu'), name='output1')(model)\n",
    "    model = tfk.layers.TimeDistributed( tfk.layers.Dense(200, activation='relu'), name='output2')(model)\n",
    "\n",
    "    output_5 = tfk.layers.TimeDistributed( tfk.layers.Dense(2, activation='softmax') ,name='output_3')(model)\n",
    "\n",
    "    model = tfk.models.Model([input1, input2, input3, input4], output_5 )\n",
    "    model.compile(loss='categorical_crossentropy', metrics=['acc'], optimizer='adam')\n",
    "\n",
    "    model.summary()"
   ]
  },
  {
   "cell_type": "code",
   "execution_count": null,
   "metadata": {
    "execution": {
     "iopub.execute_input": "2020-11-17T08:01:01.079044Z",
     "iopub.status.busy": "2020-11-17T08:01:01.077954Z",
     "iopub.status.idle": "2020-11-17T08:34:31.408269Z",
     "shell.execute_reply": "2020-11-17T08:34:31.407760Z"
    },
    "papermill": {
     "duration": 2010.350013,
     "end_time": "2020-11-17T08:34:31.408384",
     "exception": false,
     "start_time": "2020-11-17T08:01:01.058371",
     "status": "completed"
    },
    "tags": []
   },
   "outputs": [],
   "source": [
    "# model.fit([X,X_p,X_i,X_m],Y,verbose=1,batch_size=8,epochs=50)\n",
    "# model.save_weights('Weights/ALSTM.h5')\n"
   ]
  },
  {
   "cell_type": "code",
   "execution_count": null,
   "metadata": {
    "execution": {
     "iopub.execute_input": "2020-11-17T08:34:34.838343Z",
     "iopub.status.busy": "2020-11-17T08:34:34.837365Z",
     "iopub.status.idle": "2020-11-17T08:34:34.868368Z",
     "shell.execute_reply": "2020-11-17T08:34:34.867446Z"
    },
    "papermill": {
     "duration": 1.755246,
     "end_time": "2020-11-17T08:34:34.868476",
     "exception": false,
     "start_time": "2020-11-17T08:34:33.113230",
     "status": "completed"
    },
    "tags": []
   },
   "outputs": [],
   "source": [
    "model.load_weights('Weights/ALSTM.h5')"
   ]
  },
  {
   "cell_type": "code",
   "execution_count": null,
   "metadata": {
    "execution": {
     "iopub.execute_input": "2020-11-17T08:34:38.472157Z",
     "iopub.status.busy": "2020-11-17T08:34:38.470985Z",
     "iopub.status.idle": "2020-11-17T08:34:43.446020Z",
     "shell.execute_reply": "2020-11-17T08:34:43.445054Z"
    },
    "papermill": {
     "duration": 6.633423,
     "end_time": "2020-11-17T08:34:43.446146",
     "exception": false,
     "start_time": "2020-11-17T08:34:36.812723",
     "status": "completed"
    },
    "tags": []
   },
   "outputs": [],
   "source": [
    "preds = model.predict([X_val,X_p_val,X_i_val,X_m_val],verbose=1,batch_size=16)\n",
    "np.savez_compressed('alstm-vals', val_tr=Y_val, val_pr=preds)"
   ]
  },
  {
   "cell_type": "code",
   "execution_count": null,
   "metadata": {
    "execution": {
     "iopub.execute_input": "2020-11-17T08:34:47.485762Z",
     "iopub.status.busy": "2020-11-17T08:34:47.484790Z",
     "iopub.status.idle": "2020-11-17T08:34:47.928612Z",
     "shell.execute_reply": "2020-11-17T08:34:47.929092Z"
    },
    "papermill": {
     "duration": 2.813028,
     "end_time": "2020-11-17T08:34:47.929223",
     "exception": false,
     "start_time": "2020-11-17T08:34:45.116195",
     "status": "completed"
    },
    "tags": []
   },
   "outputs": [],
   "source": [
    "m = np.sum(Y_val, axis=-1)\n",
    "y_t = np.argmax(Y_val[m==1],axis=-1).flatten()\n",
    "y_p = np.argmax(preds[m==1],axis=-1).flatten()\n",
    "print(classification_report(y_t,y_p))\n",
    "t = confusion_matrix(y_t,y_p)\n",
    "print(t,accuracy_score(y_t,y_p))\n",
    "tp = np.array(t[1][1],dtype=np.float64)\n",
    "fp = np.array(t[1][0],dtype=np.float64)\n",
    "tn = np.array(t[0][0],dtype=np.float64)\n",
    "fn = np.array(t[0][1],dtype=np.float64)\n",
    "sp = tp/(tp+fn)\n",
    "sn = tn/(tn+fp)\n",
    "bacc = (sp+sn)/2\n",
    "mcc = ((tp*tn)-(fp*fn))/np.sqrt((tp+fp)*(tp+fn)*(tn+fp)*(tn+fn))\n",
    "sp,sn,bacc,mcc"
   ]
  },
  {
   "cell_type": "code",
   "execution_count": null,
   "metadata": {
    "execution": {
     "iopub.execute_input": "2020-11-17T08:34:54.646397Z",
     "iopub.status.busy": "2020-11-17T08:34:54.645668Z",
     "iopub.status.idle": "2020-11-17T08:34:55.106164Z",
     "shell.execute_reply": "2020-11-17T08:34:55.105618Z"
    },
    "papermill": {
     "duration": 2.122096,
     "end_time": "2020-11-17T08:34:55.106284",
     "exception": false,
     "start_time": "2020-11-17T08:34:52.984188",
     "status": "completed"
    },
    "tags": []
   },
   "outputs": [],
   "source": [
    "tmp = np.load('Data/Disordered_Regions_Test_Dataset.npz')\n",
    "test_ids = []\n",
    "with open('Data/SL329_id.txt') as f:\n",
    "    for l in f.readlines():\n",
    "        k = l.split('|')[1].split()[0]\n",
    "        test_ids += [k]\n",
    "te_ids_m = [True if i in test_ids else False for i in tmp['seq_ids']]\n",
    "X_te = np.argmax(tmp['sequences'],axis=-1)[te_ids_m]\n",
    "X_p_te = tmp['pssms'][te_ids_m]\n",
    "Y_te = tmp['regions'][te_ids_m]\n",
    "X_m_te = X_te!=0\n",
    "X_m_te = X_m_te.astype(np.int32)\n",
    "X_i_te = np.repeat(np.arange(1,X_te.shape[1]+1)[None,:], X_te.shape[0], axis=0)\n",
    "X_i_te[X_te==0] = 0"
   ]
  },
  {
   "cell_type": "code",
   "execution_count": null,
   "metadata": {
    "execution": {
     "iopub.execute_input": "2020-11-17T08:34:58.668333Z",
     "iopub.status.busy": "2020-11-17T08:34:58.667000Z",
     "iopub.status.idle": "2020-11-17T08:35:00.738610Z",
     "shell.execute_reply": "2020-11-17T08:35:00.737427Z"
    },
    "papermill": {
     "duration": 3.963304,
     "end_time": "2020-11-17T08:35:00.738733",
     "exception": false,
     "start_time": "2020-11-17T08:34:56.775429",
     "status": "completed"
    },
    "tags": []
   },
   "outputs": [],
   "source": [
    "preds = model.predict([X_te,X_p_te,X_i_te,X_m_te],verbose=1,batch_size=16)\n",
    "np.savez_compressed('alstm-test', te_tr=Y_te, te_pr=preds)"
   ]
  },
  {
   "cell_type": "code",
   "execution_count": null,
   "metadata": {
    "papermill": {
     "duration": 1.702154,
     "end_time": "2020-11-17T08:35:11.529139",
     "exception": false,
     "start_time": "2020-11-17T08:35:09.826985",
     "status": "completed"
    },
    "tags": []
   },
   "outputs": [],
   "source": [
    "m = np.sum(Y_te, axis=-1)\n",
    "y_t = np.argmax(Y_te[m==1],axis=-1).flatten()\n",
    "y_p = np.argmax(preds[m==1],axis=-1).flatten()\n",
    "print(classification_report(y_t,y_p))\n",
    "t = confusion_matrix(y_t,y_p)\n",
    "print(t,accuracy_score(y_t,y_p))\n",
    "tp = np.array(t[1][1],dtype=np.float64)\n",
    "fp = np.array(t[1][0],dtype=np.float64)\n",
    "tn = np.array(t[0][0],dtype=np.float64)\n",
    "fn = np.array(t[0][1],dtype=np.float64)\n",
    "sp = tp/(tp+fn)\n",
    "sn = tn/(tn+fp)\n",
    "bacc = (sp+sn)/2\n",
    "mcc = ((tp*tn)-(fp*fn))/np.sqrt((tp+fp)*(tp+fn)*(tn+fp)*(tn+fn))\n",
    "sp,sn,bacc,mcc,f1_score(y_t,y_p,average='weighted')"
   ]
  },
  {
   "cell_type": "code",
   "execution_count": null,
   "metadata": {},
   "outputs": [],
   "source": []
  }
 ],
 "metadata": {
  "kernelspec": {
   "display_name": "Python 3",
   "language": "python",
   "name": "python3"
  },
  "language_info": {
   "codemirror_mode": {
    "name": "ipython",
    "version": 3
   },
   "file_extension": ".py",
   "mimetype": "text/x-python",
   "name": "python",
   "nbconvert_exporter": "python",
   "pygments_lexer": "ipython3",
   "version": "3.8.5"
  },
  "papermill": {
   "duration": 2072.415559,
   "end_time": "2020-11-17T08:35:14.300372",
   "environment_variables": {},
   "exception": null,
   "input_path": "__notebook__.ipynb",
   "output_path": "__notebook__.ipynb",
   "parameters": {},
   "start_time": "2020-11-17T08:00:41.884813",
   "version": "2.1.0"
  }
 },
 "nbformat": 4,
 "nbformat_minor": 4
}
