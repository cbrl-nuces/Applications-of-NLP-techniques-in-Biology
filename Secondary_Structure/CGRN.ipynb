{
 "cells": [
  {
   "cell_type": "code",
   "execution_count": null,
   "metadata": {
    "execution": {
     "iopub.execute_input": "2020-11-17T07:22:20.579681Z",
     "iopub.status.busy": "2020-11-17T07:22:20.578867Z",
     "iopub.status.idle": "2020-11-17T07:22:26.602263Z",
     "shell.execute_reply": "2020-11-17T07:22:26.601598Z"
    },
    "papermill": {
     "duration": 6.040038,
     "end_time": "2020-11-17T07:22:26.602400",
     "exception": false,
     "start_time": "2020-11-17T07:22:20.562362",
     "status": "completed"
    },
    "tags": []
   },
   "outputs": [],
   "source": [
    "# import os\n",
    "# os.environ['CUDA_VISIBLE_DEVICES'] = \"1\"\n",
    "\n",
    "import tensorflow as tf\n",
    "import tensorflow.keras as tfk\n",
    "import tensorflow.keras.backend as K\n",
    "import numpy as np\n",
    "from tqdm.notebook import tqdm\n",
    "from sklearn.metrics import *\n"
   ]
  },
  {
   "cell_type": "code",
   "execution_count": null,
   "metadata": {
    "execution": {
     "iopub.execute_input": "2020-11-17T07:22:26.633438Z",
     "iopub.status.busy": "2020-11-17T07:22:26.632620Z",
     "iopub.status.idle": "2020-11-17T07:22:33.564828Z",
     "shell.execute_reply": "2020-11-17T07:22:33.564260Z"
    },
    "papermill": {
     "duration": 6.951285,
     "end_time": "2020-11-17T07:22:33.564963",
     "exception": false,
     "start_time": "2020-11-17T07:22:26.613678",
     "status": "completed"
    },
    "tags": []
   },
   "outputs": [],
   "source": [
    "num_aminoAcids = {0:'A', 1:'C', 2:'E', 3:'D', 4:'G', 5:'F', 6:'I', 7:'H', 8:'K', 9:'M', 10:'L',\n",
    "            11:'N', 12:'Q', 13:'P', 14:'S', 15:'R', 16:'T', 17:'W', 18:'V', 19:'Y', 20:'X'}\n",
    "num_ss = {0:'L',1:'B',2:'E',3:'G',4:'I',5:'H',6:'S',7:'T'}\n",
    "aminoAcid_I = {j:i+1 for i,j in num_aminoAcids.items()}\n",
    "aminoAcid_I['<pad>'] = 0\n",
    "aminoAcid_I['<S>'] = len(aminoAcid_I)\n",
    "aminoAcid_I['<EOS>'] = len(aminoAcid_I)\n",
    "ss_I = {j:i+1 for i,j in num_ss.items()}\n",
    "ss_I['<pad>'] = 0\n",
    "ss_I['X'] = len(ss_I)\n",
    "ss_I['<S>'] = len(ss_I)\n",
    "ss_I['<EOS>'] = len(ss_I)\n",
    "\n",
    "trainDataPath = 'Data/Secondary_Structure_Train_Dataset.npz'\n",
    "testDataPath = 'Data/Secondary_Structure_Test_Dataset.npz'\n",
    "\n",
    "tmp = np.load('Data/Secondary_Structure_Motif_Antimotif.npz')\n",
    "motifs = tmp['motifs']\n",
    "antiMotifs = tmp['antimotifs']\n",
    "len(motifs),len(antiMotifs)"
   ]
  },
  {
   "cell_type": "code",
   "execution_count": null,
   "metadata": {
    "execution": {
     "iopub.execute_input": "2020-11-17T07:22:33.593096Z",
     "iopub.status.busy": "2020-11-17T07:22:33.592372Z",
     "iopub.status.idle": "2020-11-17T07:22:33.599238Z",
     "shell.execute_reply": "2020-11-17T07:22:33.599985Z"
    },
    "papermill": {
     "duration": 0.024541,
     "end_time": "2020-11-17T07:22:33.600144",
     "exception": false,
     "start_time": "2020-11-17T07:22:33.575603",
     "status": "completed"
    },
    "tags": []
   },
   "outputs": [],
   "source": [
    "try:\n",
    "    tpu = tf.distribute.cluster_resolver.TPUClusterResolver()\n",
    "    print('Running on TPU ', tpu.master())\n",
    "except ValueError:\n",
    "    tpu = None\n",
    "if tpu:\n",
    "    tf.config.experimental_connect_to_cluster(tpu)\n",
    "    tf.tpu.experimental.initialize_tpu_system(tpu)\n",
    "    strategy = tf.distribute.experimental.TPUStrategy(tpu)\n",
    "else:\n",
    "    strategy = tf.distribute.get_strategy()\n",
    "print(\"REPLICAS: \", strategy.num_replicas_in_sync)"
   ]
  },
  {
   "cell_type": "code",
   "execution_count": null,
   "metadata": {},
   "outputs": [],
   "source": [
    "def load_data(file_path):\n",
    "    data = np.load(file_path)\n",
    "    sequences = data['sequences']\n",
    "    pssms = data['pssms']\n",
    "    secondary_structure = data['secondaryStrucs']\n",
    "\n",
    "    in1 = np.zeros((sequences.shape[0], 702), dtype=np.int32)\n",
    "    in2 = np.zeros((sequences.shape[0], 702,22), dtype=np.float32)\n",
    "    in3 = np.zeros((sequences.shape[0], 702), dtype=np.int32)\n",
    "    out = np.zeros((sequences.shape[0], 702), dtype=np.int32)\n",
    "    for i in tqdm(range(sequences.shape[0])):\n",
    "        seq = '-'\n",
    "        in1[i,0] = aminoAcid_I['<S>']\n",
    "        in3[i,0] = 1\n",
    "        out[i,0] = ss_I['<S>']\n",
    "        for j in range(sequences.shape[1]):\n",
    "            if np.sum(sequences[i,j,:]) == 0:\n",
    "                in1[i,j+1] = aminoAcid_I['<EOS>']\n",
    "                in3[i,j+1] = j+2\n",
    "                out[i,j+1] = ss_I['<EOS>']\n",
    "                break\n",
    "            in3[i,j+1] = j+2\n",
    "            t = num_aminoAcids[np.argmax(sequences[i,j,:])]\n",
    "            seq += t\n",
    "            in1[i,j+1] = aminoAcid_I[t]\n",
    "            out[i,j+1] = ss_I[num_ss[np.argmax(secondary_structure[i,j,:])]]\n",
    "            if np.sum(secondary_structure[i,j,:]) == 0:\n",
    "                out[i,j+1] = ss_I['X']\n",
    "            in2[i,j+1] = pssms[i,j]\n",
    "    in4 = np.where(in1!=0, 1, 0)[:,:,None]\n",
    "    return in1, in2, in3, in4, out\n"
   ]
  },
  {
   "cell_type": "code",
   "execution_count": null,
   "metadata": {},
   "outputs": [],
   "source": [
    "X1, X2, X3, X4, Y = load_data(trainDataPath)\n",
    "X1_val = X1[12000:]\n",
    "X2_val = X2[12000:]\n",
    "X3_val = X3[12000:]\n",
    "X4_val = X4[12000:]\n",
    "Y_val = tf.one_hot(Y[12000:], 9)[:,:,1:]\n",
    "\n",
    "X1 = X1[:12000]\n",
    "X2 = X2[:12000]\n",
    "X3 = X3[:12000]\n",
    "X4 = X4[:12000]\n",
    "Y = tf.one_hot(Y[:12000], 9)[:,:,1:]\n"
   ]
  },
  {
   "cell_type": "code",
   "execution_count": null,
   "metadata": {
    "execution": {
     "iopub.execute_input": "2020-11-17T07:22:33.641864Z",
     "iopub.status.busy": "2020-11-17T07:22:33.640306Z",
     "iopub.status.idle": "2020-11-17T07:22:33.643142Z",
     "shell.execute_reply": "2020-11-17T07:22:33.643687Z"
    },
    "papermill": {
     "duration": 0.031681,
     "end_time": "2020-11-17T07:22:33.643801",
     "exception": false,
     "start_time": "2020-11-17T07:22:33.612120",
     "status": "completed"
    },
    "tags": []
   },
   "outputs": [],
   "source": [
    "def shape_list(x):\n",
    "    tmp = list(K.int_shape(x))\n",
    "    tmp[0] = -1\n",
    "    return tmp\n",
    "\n",
    "def _getPosEncodingMat(length, dim):\n",
    "    posEnc = np.array([[pos/np.power(10000, 2*(j//2)/dim) for j in range(dim)]\n",
    "                        if pos!=0 else np.zeros(dim) for pos in range(length)], dtype=np.float32)\n",
    "    posEnc[1:, 0::2] = np.sin(posEnc[1:, 0::2])\n",
    "    posEnc[1:, 1::2] = np.cos(posEnc[1:, 1::2])\n",
    "    return posEnc"
   ]
  },
  {
   "cell_type": "code",
   "execution_count": null,
   "metadata": {
    "execution": {
     "iopub.execute_input": "2020-11-17T07:22:33.681142Z",
     "iopub.status.busy": "2020-11-17T07:22:33.680191Z",
     "iopub.status.idle": "2020-11-17T07:22:36.065225Z",
     "shell.execute_reply": "2020-11-17T07:22:36.059751Z"
    },
    "papermill": {
     "duration": 2.409025,
     "end_time": "2020-11-17T07:22:36.065349",
     "exception": false,
     "start_time": "2020-11-17T07:22:33.656324",
     "status": "completed"
    },
    "scrolled": true,
    "tags": []
   },
   "outputs": [],
   "source": [
    "with strategy.scope():\n",
    "    input1_ = tfk.layers.Input(shape=(702, ), name='sequence_input')\n",
    "    input2_ = tfk.layers.Input(shape=(702, 22, ), name='pssm_input')\n",
    "    input3_ = tfk.layers.Input(shape=(702, ), name='pid_input')\n",
    "    input4_ = tfk.layers.Input(shape=(702, 1, ), name='mask_input')\n",
    "    \n",
    "    emb = tfk.layers.Embedding(input_dim=24, output_dim=100, input_length=700, name='embds')(input1_)\n",
    "    pidsEmbd = tfk.layers.Embedding(input_dim=702, output_dim=100, trainable=False, \n",
    "                                    weights=[_getPosEncodingMat(702, 100)], name='pids_embds')(input3_)\n",
    "    emb = tfk.layers.Add(name='seq_embdAdd')([emb, pidsEmbd])\n",
    "    x = tfk.layers.concatenate([emb, input2_], axis=-1, name='con1')\n",
    "    \n",
    "    x1 = tfk.layers.Conv1D( 100, 11, strides=1, padding='same', activation='relu', name='conv1')(x)\n",
    "    x2 = tfk.layers.Conv1D( 100, 7, strides=1, padding='same', activation='relu', name='conv2')(x)\n",
    "    x3 = tfk.layers.Conv1D( 100, 3, strides=1, padding='same', activation='relu', name='conv3')(x)\n",
    "    x = tfk.layers.concatenate([x1, x2, x3], axis=-1, name='con2')\n",
    "    x = tfk.layers.Multiply()([x, input4_])\n",
    "    \n",
    "    model = tfk.layers.Bidirectional( tfk.layers.GRU(units=300, return_sequences=True), name='bigru1')(x)\n",
    "    model = tfk.layers.Multiply()([model, input4_])\n",
    "    model = tfk.layers.Bidirectional( tfk.layers.GRU(units=300, return_sequences=True), name='bigru2')(model)\n",
    "    model = tfk.layers.Multiply()([model, input4_])\n",
    "    model = tfk.layers.Bidirectional( tfk.layers.GRU(units=300, return_sequences=True), name='bigru3')(model)\n",
    "    model = tfk.layers.concatenate([model, x], axis=-1, name='con3')\n",
    "    model = tfk.layers.TimeDistributed( tfk.layers.Dense(200, activation='relu'), name='output1')(model)\n",
    "    model = tfk.layers.Multiply()([model, input4_])\n",
    "    model = tfk.layers.TimeDistributed( tfk.layers.Dense(200, activation='relu'), name='output2')(model)\n",
    "    output_ = tfk.layers.TimeDistributed( tfk.layers.Dense(8, activation='softmax') ,name='output')(model)\n",
    "    \n",
    "    model = tfk.models.Model([input1_, input2_, input3_, input4_], output_)\n",
    "    model.compile(loss='categorical_crossentropy', metrics=['acc'], optimizer='adam')\n",
    "\n",
    "    model.summary()"
   ]
  },
  {
   "cell_type": "code",
   "execution_count": null,
   "metadata": {
    "execution": {
     "iopub.execute_input": "2020-11-17T07:22:36.096535Z",
     "iopub.status.busy": "2020-11-17T07:22:36.095756Z",
     "iopub.status.idle": "2020-11-17T08:07:37.749109Z",
     "shell.execute_reply": "2020-11-17T08:07:37.749590Z"
    },
    "papermill": {
     "duration": 2701.671128,
     "end_time": "2020-11-17T08:07:37.749747",
     "exception": false,
     "start_time": "2020-11-17T07:22:36.078619",
     "status": "completed"
    },
    "scrolled": true,
    "tags": []
   },
   "outputs": [],
   "source": [
    "# model.fit([X1, X2, X3, X4], Y, verbose=1, batch_size=8, epochs=50)\n",
    "# model.save_weights('Weights/CGRN.h5')\n"
   ]
  },
  {
   "cell_type": "code",
   "execution_count": null,
   "metadata": {},
   "outputs": [],
   "source": [
    "model.load_weights('Weights/CGRN.h5')"
   ]
  },
  {
   "cell_type": "code",
   "execution_count": null,
   "metadata": {
    "execution": {
     "iopub.execute_input": "2020-11-17T08:07:39.850007Z",
     "iopub.status.busy": "2020-11-17T08:07:39.848968Z",
     "iopub.status.idle": "2020-11-17T08:07:48.777885Z",
     "shell.execute_reply": "2020-11-17T08:07:48.779164Z"
    },
    "papermill": {
     "duration": 9.991172,
     "end_time": "2020-11-17T08:07:48.779371",
     "exception": false,
     "start_time": "2020-11-17T08:07:38.788199",
     "status": "completed"
    },
    "tags": []
   },
   "outputs": [],
   "source": [
    "preds = model.predict([X1_val, X2_val, X3_val, X4_val], verbose=1, batch_size=8)\n",
    "np.savez_compressed('cgrn-vals', val_tr=Y_val, val_pr=preds)"
   ]
  },
  {
   "cell_type": "code",
   "execution_count": null,
   "metadata": {},
   "outputs": [],
   "source": [
    "def to_q3(x):\n",
    "    y = []\n",
    "    for i in x:\n",
    "        if i in [0,6,7]:\n",
    "            y += [1]\n",
    "        elif i in [1,2]:\n",
    "            y += [2]\n",
    "        else:\n",
    "            y += [3]\n",
    "    return y\n",
    "\n",
    "m = np.sum(Y_val, axis=-1)\n",
    "y_t = np.argmax(Y_val[m==1],axis=-1)\n",
    "y_p = np.argmax(preds[m==1],axis=-1)\n",
    "print(classification_report(y_t,y_p))\n",
    "print(accuracy_score(to_q3(y_t),to_q3(y_p)),accuracy_score(y_t,y_p),precision_score(y_t,y_p,average='weighted'),\n",
    "      recall_score(y_t,y_p,average='weighted'), f1_score(y_t,y_p,average='weighted'))"
   ]
  },
  {
   "cell_type": "code",
   "execution_count": null,
   "metadata": {
    "papermill": {
     "duration": 1.093738,
     "end_time": "2020-11-17T08:08:07.792690",
     "exception": false,
     "start_time": "2020-11-17T08:08:06.698952",
     "status": "completed"
    },
    "tags": []
   },
   "outputs": [],
   "source": [
    "X1_te, X2_te, X3_te, X4_te, Y_te = load_data(testDataPath)\n",
    "Y_te = tf.one_hot(Y_te, 9)[:,:,1:]\n"
   ]
  },
  {
   "cell_type": "code",
   "execution_count": null,
   "metadata": {},
   "outputs": [],
   "source": [
    "preds = model.predict([X1_te, X2_te, X3_te, X4_te], verbose=1, batch_size=8)\n",
    "np.savez_compressed('cgrn-tests', te_tr=Y_te, te_pr=preds)"
   ]
  },
  {
   "cell_type": "code",
   "execution_count": null,
   "metadata": {},
   "outputs": [],
   "source": [
    "m = np.sum(Y_te, axis=-1)\n",
    "y_t = np.argmax(Y_te[m==1],axis=-1)\n",
    "y_p = np.argmax(preds[m==1],axis=-1)\n",
    "print(classification_report(y_t,y_p))\n",
    "print(accuracy_score(to_q3(y_t),to_q3(y_p)),accuracy_score(y_t,y_p),precision_score(y_t,y_p,average='weighted'),\n",
    "      recall_score(y_t,y_p,average='weighted'), f1_score(y_t,y_p,average='weighted'))"
   ]
  },
  {
   "cell_type": "code",
   "execution_count": null,
   "metadata": {},
   "outputs": [],
   "source": []
  }
 ],
 "metadata": {
  "kernelspec": {
   "display_name": "Python 3",
   "language": "python",
   "name": "python3"
  },
  "language_info": {
   "codemirror_mode": {
    "name": "ipython",
    "version": 3
   },
   "file_extension": ".py",
   "mimetype": "text/x-python",
   "name": "python",
   "nbconvert_exporter": "python",
   "pygments_lexer": "ipython3",
   "version": "3.8.5"
  },
  "papermill": {
   "duration": 2754.415366,
   "end_time": "2020-11-17T08:08:10.846032",
   "environment_variables": {},
   "exception": null,
   "input_path": "__notebook__.ipynb",
   "output_path": "__notebook__.ipynb",
   "parameters": {},
   "start_time": "2020-11-17T07:22:16.430666",
   "version": "2.1.0"
  }
 },
 "nbformat": 4,
 "nbformat_minor": 4
}
