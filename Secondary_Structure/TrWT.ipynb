{
 "cells": [
  {
   "cell_type": "code",
   "execution_count": null,
   "metadata": {
    "execution": {
     "iopub.execute_input": "2021-03-10T10:59:43.365632Z",
     "iopub.status.busy": "2021-03-10T10:59:43.364932Z",
     "iopub.status.idle": "2021-03-10T10:59:48.968371Z",
     "shell.execute_reply": "2021-03-10T10:59:48.967418Z"
    },
    "papermill": {
     "duration": 5.619246,
     "end_time": "2021-03-10T10:59:48.968546",
     "exception": false,
     "start_time": "2021-03-10T10:59:43.349300",
     "status": "completed"
    },
    "tags": []
   },
   "outputs": [],
   "source": [
    "# import os\n",
    "# os.environ['CUDA_VISIBLE_DEVICES'] = \"1\"\n",
    "\n",
    "import tensorflow as tf\n",
    "import tensorflow.keras as tfk\n",
    "import tensorflow.keras.backend as K\n",
    "import numpy as np\n",
    "from tqdm.notebook import tqdm\n",
    "from sklearn.metrics import *\n"
   ]
  },
  {
   "cell_type": "code",
   "execution_count": null,
   "metadata": {},
   "outputs": [],
   "source": [
    "num_aminoAcids = {0:'A', 1:'C', 2:'E', 3:'D', 4:'G', 5:'F', 6:'I', 7:'H', 8:'K', 9:'M', 10:'L',\n",
    "            11:'N', 12:'Q', 13:'P', 14:'S', 15:'R', 16:'T', 17:'W', 18:'V', 19:'Y', 20:'X'}\n",
    "num_ss = {0:'L',1:'B',2:'E',3:'G',4:'I',5:'H',6:'S',7:'T'}\n",
    "aminoAcid_I = {j:i+1 for i,j in num_aminoAcids.items()}\n",
    "aminoAcid_I['<pad>'] = 0\n",
    "aminoAcid_I['<S>'] = len(aminoAcid_I)\n",
    "aminoAcid_I['<EOS>'] = len(aminoAcid_I)\n",
    "ss_I = {j:i+1 for i,j in num_ss.items()}\n",
    "ss_I['<pad>'] = 0\n",
    "ss_I['X'] = len(ss_I)\n",
    "ss_I['<S>'] = len(ss_I)\n",
    "ss_I['<EOS>'] = len(ss_I)\n",
    "\n",
    "trainDataPath = 'Data/Secondary_Structure_Train_Dataset.npz'\n",
    "testDataPath = 'Data/Secondary_Structure_Test_Dataset.npz'\n",
    "\n",
    "tmp = np.load('Data/Secondary_Structure_Motif_Antimotif.npz')\n",
    "motifs = tmp['motifs']\n",
    "antiMotifs = tmp['antimotifs']\n",
    "len(motifs),len(antiMotifs)"
   ]
  },
  {
   "cell_type": "code",
   "execution_count": null,
   "metadata": {
    "execution": {
     "iopub.execute_input": "2021-03-10T11:00:00.039106Z",
     "iopub.status.busy": "2021-03-10T11:00:00.037862Z",
     "iopub.status.idle": "2021-03-10T11:00:00.048496Z",
     "shell.execute_reply": "2021-03-10T11:00:00.049264Z"
    },
    "papermill": {
     "duration": 0.039766,
     "end_time": "2021-03-10T11:00:00.049418",
     "exception": false,
     "start_time": "2021-03-10T11:00:00.009652",
     "status": "completed"
    },
    "tags": []
   },
   "outputs": [],
   "source": [
    "try:\n",
    "    tpu = tf.distribute.cluster_resolver.TPUClusterResolver()\n",
    "    print('Running on TPU ', tpu.master())\n",
    "except ValueError:\n",
    "    tpu = None\n",
    "if tpu:\n",
    "    tf.config.experimental_connect_to_cluster(tpu)\n",
    "    tf.tpu.experimental.initialize_tpu_system(tpu)\n",
    "    strategy = tf.distribute.experimental.TPUStrategy(tpu)\n",
    "else:\n",
    "    strategy = tf.distribute.get_strategy()\n",
    "print(\"REPLICAS: \", strategy.num_replicas_in_sync)"
   ]
  },
  {
   "cell_type": "code",
   "execution_count": null,
   "metadata": {},
   "outputs": [],
   "source": [
    "def get_probs(seq, p_list):\n",
    "    p_probs = np.zeros((702, 8), dtype=np.float32)\n",
    "    p = np.array(list('-'*len(seq)))\n",
    "    tmpList = []\n",
    "    for m in p_list:\n",
    "        tmps = np.array(list(seq))\n",
    "        tmp = np.arange(len(seq))\n",
    "        tmp = tmp[tmps == m[0]]\n",
    "        tk = int(m[3])\n",
    "        ss = m[2]\n",
    "        for ti in tmp:\n",
    "            if ti+tk < len(seq) and tmps[ti+tk] == m[1]:\n",
    "                tmpp = p.copy()\n",
    "                tmpp[ti:ti+tk+1] = ss\n",
    "                tmpList += [tmpp]\n",
    "    if len(tmpList) > 0:\n",
    "        tmpList = np.array(tmpList)\n",
    "        for ti in range(len(p)):\n",
    "            tmp = tmpList[:,ti]\n",
    "            tmp = tmp[tmp != '-']\n",
    "            if len(tmp) > 0:\n",
    "                a,b = np.unique(tmp,return_counts=True)\n",
    "                for tj in range(len(a)):\n",
    "                    p_probs[ti, ss_I[a[tj]]-1] = b[tj]/len(tmp)\n",
    "    return p_probs\n",
    "\n",
    "def load_data(file_path):\n",
    "    data = np.load(file_path)\n",
    "    sequences = data['sequences']\n",
    "    pssms = data['pssms']\n",
    "    secondary_structure = data['secondaryStrucs']\n",
    "\n",
    "    in1 = np.zeros((sequences.shape[0], 702), dtype=np.int32)\n",
    "    in2 = np.zeros((sequences.shape[0], 702,22), dtype=np.float32)\n",
    "    in3 = np.zeros((sequences.shape[0], 702), dtype=np.int32)\n",
    "    in4 = np.zeros((sequences.shape[0], 702, 8), dtype=np.float32)\n",
    "    in5 = np.zeros((sequences.shape[0], 702, 8), dtype=np.float32)\n",
    "    out = np.zeros((sequences.shape[0], 702), dtype=np.int32)\n",
    "    for i in tqdm(range(sequences.shape[0])):\n",
    "        seq = '-'\n",
    "        in1[i,0] = aminoAcid_I['<S>']\n",
    "        in3[i,0] = 1\n",
    "        out[i,0] = ss_I['<S>']\n",
    "        for j in range(sequences.shape[1]):\n",
    "            if np.sum(sequences[i,j,:]) == 0:\n",
    "                in1[i,j+1] = aminoAcid_I['<EOS>']\n",
    "                in3[i,j+1] = j+2\n",
    "                out[i,j+1] = ss_I['<EOS>']\n",
    "                break\n",
    "            in3[i,j+1] = j+2\n",
    "            t = num_aminoAcids[np.argmax(sequences[i,j,:])]\n",
    "            seq += t\n",
    "            in1[i,j+1] = aminoAcid_I[t]\n",
    "            out[i,j+1] = ss_I[num_ss[np.argmax(secondary_structure[i,j,:])]]\n",
    "            if np.sum(secondary_structure[i,j,:]) == 0:\n",
    "                out[i,j+1] = ss_I['X']\n",
    "            in2[i,j+1] = pssms[i,j]\n",
    "        in4[i,:,:] = get_probs(seq, motifs)\n",
    "        in5[i,:,:] = get_probs(seq, antiMotifs)\n",
    "    in6 = tf.math.add(in4, in5)\n",
    "    in6 = tf.argmax(in6, axis=-1, output_type=tf.int32)\n",
    "    in7 = np.where(in1!=0, 1, 0)[:,:,None]\n",
    "    return in1, in3, in2, in4, in5, in6, in7, out\n"
   ]
  },
  {
   "cell_type": "code",
   "execution_count": null,
   "metadata": {},
   "outputs": [],
   "source": [
    "X1, X2, X3, X4, X5, X6, X7, Y = load_data(trainDataPath)\n",
    "X1_val = X1[12000:]\n",
    "X2_val = X2[12000:]\n",
    "X3_val = X3[12000:]\n",
    "X4_val = X4[12000:]\n",
    "X5_val = X5[12000:]\n",
    "X6_val = X6[12000:]\n",
    "X7_val = X7[12000:]\n",
    "Y_val = tf.one_hot(Y[12000:], 9)[:,:,1:]\n",
    "\n",
    "X1 = X1[:12000]\n",
    "X2 = X2[:12000]\n",
    "X3 = X3[:12000]\n",
    "X4 = X4[:12000]\n",
    "X5 = X5[:12000]\n",
    "X6 = X6[:12000]\n",
    "X7 = X7[:12000]\n",
    "Y = tf.one_hot(Y[:12000], 9)[:,:,1:]\n"
   ]
  },
  {
   "cell_type": "code",
   "execution_count": null,
   "metadata": {
    "execution": {
     "iopub.execute_input": "2021-03-10T11:00:00.097183Z",
     "iopub.status.busy": "2021-03-10T11:00:00.096096Z",
     "iopub.status.idle": "2021-03-10T11:00:00.141949Z",
     "shell.execute_reply": "2021-03-10T11:00:00.142970Z"
    },
    "papermill": {
     "duration": 0.074933,
     "end_time": "2021-03-10T11:00:00.143114",
     "exception": false,
     "start_time": "2021-03-10T11:00:00.068181",
     "status": "completed"
    },
    "tags": []
   },
   "outputs": [],
   "source": [
    "def shape_list(x):\n",
    "    tmp = list(K.int_shape(x))\n",
    "    tmp[0] = -1\n",
    "    return tmp\n",
    "\n",
    "def dot_product_attention(q, k, v):\n",
    "    depth = K.int_shape(q)[-1]\n",
    "    dots = tf.matmul(q, k, transpose_b=True) /  tf.sqrt(float(depth))\n",
    "    logsumexp = tf.math.reduce_logsumexp(dots, axis=-1, keepdims=True)\n",
    "    dots = tf.exp(dots - logsumexp)\n",
    "    attn = tf.matmul(dots, v)\n",
    "    return attn\n",
    "\n",
    "def prepare_dpa(x, n_heads, d_head):\n",
    "    s_l = K.int_shape(x)[1]\n",
    "    x = tf.reshape(x, (-1, s_l, n_heads, d_head))\n",
    "    x = tf.transpose(x, (0, 2, 1, 3))\n",
    "    x = tf.reshape(x, (-1, s_l, d_head))\n",
    "    return x\n",
    "\n",
    "def post_dpa(x, n_heads, d_head):\n",
    "    s_l = K.int_shape(x)[1]\n",
    "    x = tf.reshape(x, (-1, n_heads, s_l, d_head))\n",
    "    x = tf.reshape(x, (-1, s_l, n_heads*d_head))\n",
    "    return x\n",
    "\n",
    "def enc_dec_attention(x, y, d_feat, n_heads):\n",
    "    d_head = d_feat // n_heads\n",
    "    q = tfk.layers.TimeDistributed(tfk.layers.Dense(d_feat))(y)\n",
    "    q = prepare_dpa(q, n_heads, d_head)\n",
    "    k = tfk.layers.TimeDistributed(tfk.layers.Dense(d_feat))(x)\n",
    "    k = prepare_dpa(k, n_heads, d_head)\n",
    "    v = tfk.layers.TimeDistributed(tfk.layers.Dense(d_feat))(x)\n",
    "    v = prepare_dpa(v, n_heads, d_head)\n",
    "    x = dot_product_attention(q, k, v)\n",
    "    x = post_dpa(x, n_heads, d_head)\n",
    "    return x\n",
    "\n",
    "def casual_attention(x, d_feat, n_heads):\n",
    "    d_head = d_feat // n_heads\n",
    "    q = tfk.layers.TimeDistributed(tfk.layers.Dense(d_feat))(x)\n",
    "    q = prepare_dpa(q, n_heads, d_head)\n",
    "    k = tfk.layers.TimeDistributed(tfk.layers.Dense(d_feat))(x)\n",
    "    k = prepare_dpa(k, n_heads, d_head)\n",
    "    v = tfk.layers.TimeDistributed(tfk.layers.Dense(d_feat))(x)\n",
    "    v = prepare_dpa(v, n_heads, d_head)\n",
    "    x = dot_product_attention(q, k, v)\n",
    "    x = post_dpa(x, n_heads, d_head)\n",
    "    return x\n",
    "\n",
    "def feed_forward(x, n_units, d_ff, d_rate):\n",
    "    x = tfk.layers.LayerNormalization()(x)\n",
    "    x = tfk.layers.TimeDistributed(tfk.layers.Dense(d_ff, activation='relu'))(x)\n",
    "    x = tfk.layers.Dropout(d_rate)(x)\n",
    "    x = tfk.layers.TimeDistributed(tfk.layers.Dense(n_units, activation='relu'))(x)\n",
    "    x = tfk.layers.Dropout(d_rate)(x)\n",
    "    return x\n",
    "\n",
    "def decoder_block(x, z, n_units, d_ff, n_heads, d_rate):\n",
    "    x = tfk.layers.LayerNormalization()(x)\n",
    "    y = casual_attention(x, n_units, n_heads)\n",
    "    y = tfk.layers.Dropout(d_rate)(y)\n",
    "    x = tfk.layers.add([x,y])\n",
    "    x = tfk.layers.LayerNormalization()(x)\n",
    "    y = enc_dec_attention(z, x, n_units, n_heads)\n",
    "    y = tfk.layers.Dropout(d_rate)(y)\n",
    "    x = tfk.layers.add([x,y])\n",
    "    y = feed_forward(x, n_units, d_ff, d_rate)\n",
    "    y = tfk.layers.add([x,y])\n",
    "    return y\n",
    "\n",
    "def encoder_block(x, n_units, d_ff, n_heads, d_rate):\n",
    "    x = tfk.layers.LayerNormalization()(x)\n",
    "    y = casual_attention(x, n_units, n_heads)\n",
    "    y = tfk.layers.Dropout(d_rate)(y)\n",
    "    x = tfk.layers.add([x,y])\n",
    "    y = feed_forward(x, n_units, d_ff, d_rate)\n",
    "    y = tfk.layers.add([x,y])\n",
    "    return y\n",
    "\n",
    "def _getPosEncodingMat(length, dim):\n",
    "    posEnc = np.array([[pos/np.power(10000, 2*(j//2)/dim) for j in range(dim)]\n",
    "                        if pos!=0 else np.zeros(dim) for pos in range(length)], dtype=np.float32)\n",
    "    posEnc[1:, 0::2] = np.sin(posEnc[1:, 0::2])\n",
    "    posEnc[1:, 1::2] = np.cos(posEnc[1:, 1::2])\n",
    "    return posEnc"
   ]
  },
  {
   "cell_type": "code",
   "execution_count": null,
   "metadata": {
    "execution": {
     "iopub.execute_input": "2021-03-10T11:00:00.188871Z",
     "iopub.status.busy": "2021-03-10T11:00:00.188087Z",
     "iopub.status.idle": "2021-03-10T11:00:02.628654Z",
     "shell.execute_reply": "2021-03-10T11:00:02.629147Z"
    },
    "papermill": {
     "duration": 2.468234,
     "end_time": "2021-03-10T11:00:02.629282",
     "exception": false,
     "start_time": "2021-03-10T11:00:00.161048",
     "status": "completed"
    },
    "tags": []
   },
   "outputs": [],
   "source": [
    "with strategy.scope():\n",
    "    input1_ = tfk.layers.Input(shape=(702, ), name='sequence_input')\n",
    "    input2_ = tfk.layers.Input(shape=(702, ), name='pids_input')\n",
    "    input3_ = tfk.layers.Input(shape=(702, 22, ), name='pssm_input')\n",
    "    input4_ = tfk.layers.Input(shape=(702, 8, ), name='motif_input')\n",
    "    input5_ = tfk.layers.Input(shape=(702, 8, ), name='amotif_input')\n",
    "    input6_ = tfk.layers.Input(shape=(702, ), name='ss_input')\n",
    "    input7_ = tfk.layers.Input(shape=(702, 1, ), name='mask_input')\n",
    "    pidsEmbd = tfk.layers.Embedding(input_dim=702, output_dim=100, trainable=False,\n",
    "                                    weights=[_getPosEncodingMat(702, 100)], name='pids_embds')(input2_)\n",
    "    seqEmbd = tfk.layers.Embedding(input_dim=24, output_dim=100, name='seq_embds')(input1_)\n",
    "    x = tfk.layers.Add(name='seq_embdAdd')([seqEmbd, pidsEmbd])\n",
    "    x = tfk.layers.concatenate([x, input3_])\n",
    "    x = tfk.layers.TimeDistributed(tfk.layers.Dense(200, activation=None))(x)\n",
    "    x = tfk.layers.Multiply()([x, input7_])\n",
    "    ssEmbd = tfk.layers.Embedding(input_dim=8, output_dim=100, name='ss_embds')(input6_)\n",
    "    y = tfk.layers.Add(name='ss_embdAdd')([ssEmbd, pidsEmbd])\n",
    "    y = tfk.layers.concatenate([y, input4_, input5_])\n",
    "    y = tfk.layers.TimeDistributed(tfk.layers.Dense(200, activation=None))(y)\n",
    "    y = tfk.layers.Multiply()([y, input7_])\n",
    "    for _ in range(3):\n",
    "        x = encoder_block(x, 200, 512, 4, 0.2)\n",
    "    for _ in range(3):\n",
    "        y = decoder_block(y, x, 200, 512, 4, 0.2)\n",
    "    output_ = tfk.layers.TimeDistributed( tfk.layers.Dense(256, activation='relu'))(y)\n",
    "    output_ = tfk.layers.TimeDistributed( tfk.layers.Dense(256, activation='relu'))(output_)\n",
    "    output_ = tfk.layers.TimeDistributed( tfk.layers.Dense(8, activation='softmax'),name='output')(output_)\n",
    "    \n",
    "    model = tfk.models.Model([input1_, input2_, input3_, input4_, input5_, input6_, input7_], output_)\n",
    "    model.compile(loss='categorical_crossentropy', metrics=['categorical_accuracy'], optimizer='adam')\n",
    "    model.summary()"
   ]
  },
  {
   "cell_type": "code",
   "execution_count": null,
   "metadata": {
    "execution": {
     "iopub.execute_input": "2021-03-10T11:00:02.678957Z",
     "iopub.status.busy": "2021-03-10T11:00:02.677867Z",
     "iopub.status.idle": "2021-03-10T13:17:47.353394Z",
     "shell.execute_reply": "2021-03-10T13:17:47.352981Z"
    },
    "papermill": {
     "duration": 8264.703641,
     "end_time": "2021-03-10T13:17:47.353492",
     "exception": false,
     "start_time": "2021-03-10T11:00:02.649851",
     "status": "completed"
    },
    "scrolled": true,
    "tags": []
   },
   "outputs": [],
   "source": [
    "# model.fit([X1, X2, X3, X4, X5, X6, X7], Y, verbose=1, batch_size=8, epochs=50)\n",
    "# model.save_weights('Weights/TrWT.h5')\n"
   ]
  },
  {
   "cell_type": "code",
   "execution_count": null,
   "metadata": {
    "execution": {
     "iopub.execute_input": "2021-03-10T13:18:08.939030Z",
     "iopub.status.busy": "2021-03-10T13:18:08.938429Z",
     "iopub.status.idle": "2021-03-10T13:18:09.101782Z",
     "shell.execute_reply": "2021-03-10T13:18:09.100599Z"
    },
    "papermill": {
     "duration": 10.910161,
     "end_time": "2021-03-10T13:18:09.101879",
     "exception": false,
     "start_time": "2021-03-10T13:17:58.191718",
     "status": "completed"
    },
    "tags": []
   },
   "outputs": [],
   "source": [
    "model.load_weights('Weights/TrWT.h5')"
   ]
  },
  {
   "cell_type": "code",
   "execution_count": null,
   "metadata": {
    "execution": {
     "iopub.execute_input": "2021-03-10T13:18:30.799656Z",
     "iopub.status.busy": "2021-03-10T13:18:30.798651Z",
     "iopub.status.idle": "2021-03-10T13:18:57.910011Z",
     "shell.execute_reply": "2021-03-10T13:18:57.910707Z"
    },
    "papermill": {
     "duration": 38.271507,
     "end_time": "2021-03-10T13:18:57.910873",
     "exception": false,
     "start_time": "2021-03-10T13:18:19.639366",
     "status": "completed"
    },
    "tags": []
   },
   "outputs": [],
   "source": [
    "preds = model.predict([X1_val, X2_val, X3_val, X4_val, X5_val, X6_val, X7_val], verbose=1, batch_size=8)\n",
    "np.savez_compressed('trwt-vals', val_tr=Y_val, val_pr=preds)"
   ]
  },
  {
   "cell_type": "code",
   "execution_count": null,
   "metadata": {},
   "outputs": [],
   "source": [
    "def to_q3(x):\n",
    "    y = []\n",
    "    for i in x:\n",
    "        if i in [0,6,7]:\n",
    "            y += [1]\n",
    "        elif i in [1,2]:\n",
    "            y += [2]\n",
    "        else:\n",
    "            y += [3]\n",
    "    return y\n",
    "\n",
    "m = np.sum(Y_val, axis=-1)\n",
    "y_t = np.argmax(Y_val[m==1],axis=-1)\n",
    "y_p = np.argmax(preds[m==1],axis=-1)\n",
    "print(classification_report(y_t,y_p))\n",
    "print(accuracy_score(to_q3(y_t),to_q3(y_p)),accuracy_score(y_t,y_p),precision_score(y_t,y_p,average='weighted'),\n",
    "      recall_score(y_t,y_p,average='weighted'), f1_score(y_t,y_p,average='weighted'))"
   ]
  },
  {
   "cell_type": "code",
   "execution_count": null,
   "metadata": {},
   "outputs": [],
   "source": [
    "X1_te, X2_te, X3_te, X4_te, X5_te, X6_te, X7_te, Y_te = load_data(testDataPath)\n",
    "Y_te = tf.one_hot(Y_te, 9)[:,:,1:]\n"
   ]
  },
  {
   "cell_type": "code",
   "execution_count": null,
   "metadata": {},
   "outputs": [],
   "source": [
    "preds = model.predict([X1_te, X2_te, X3_te, X4_te, X5_te, X6_te, X7_te], verbose=1, batch_size=8)\n",
    "np.savez_compressed('trwt-tests', te_tr=Y_te, te_pr=preds)"
   ]
  },
  {
   "cell_type": "code",
   "execution_count": null,
   "metadata": {},
   "outputs": [],
   "source": [
    "m = np.sum(Y_te, axis=-1)\n",
    "y_t = np.argmax(Y_te[m==1],axis=-1)\n",
    "y_p = np.argmax(preds[m==1],axis=-1)\n",
    "print(classification_report(y_t,y_p))\n",
    "print(accuracy_score(to_q3(y_t),to_q3(y_p)),accuracy_score(y_t,y_p),precision_score(y_t,y_p,average='weighted'),\n",
    "      recall_score(y_t,y_p,average='weighted'), f1_score(y_t,y_p,average='weighted'))"
   ]
  },
  {
   "cell_type": "code",
   "execution_count": null,
   "metadata": {},
   "outputs": [],
   "source": []
  }
 ],
 "metadata": {
  "kernelspec": {
   "display_name": "Python 3",
   "language": "python",
   "name": "python3"
  },
  "language_info": {
   "codemirror_mode": {
    "name": "ipython",
    "version": 3
   },
   "file_extension": ".py",
   "mimetype": "text/x-python",
   "name": "python",
   "nbconvert_exporter": "python",
   "pygments_lexer": "ipython3",
   "version": "3.8.5"
  },
  "papermill": {
   "duration": 8554.880262,
   "end_time": "2021-03-10T13:22:14.540122",
   "environment_variables": {},
   "exception": null,
   "input_path": "__notebook__.ipynb",
   "output_path": "__notebook__.ipynb",
   "parameters": {},
   "start_time": "2021-03-10T10:59:39.659860",
   "version": "2.1.0"
  }
 },
 "nbformat": 4,
 "nbformat_minor": 4
}
