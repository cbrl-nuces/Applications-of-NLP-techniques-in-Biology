{
 "cells": [
  {
   "cell_type": "code",
   "execution_count": null,
   "metadata": {
    "execution": {
     "iopub.execute_input": "2020-11-17T08:00:46.097288Z",
     "iopub.status.busy": "2020-11-17T08:00:46.096423Z",
     "iopub.status.idle": "2020-11-17T08:00:51.866836Z",
     "shell.execute_reply": "2020-11-17T08:00:51.865292Z"
    },
    "papermill": {
     "duration": 5.788829,
     "end_time": "2020-11-17T08:00:51.867006",
     "exception": false,
     "start_time": "2020-11-17T08:00:46.078177",
     "status": "completed"
    },
    "tags": []
   },
   "outputs": [],
   "source": [
    "# import os\n",
    "# os.environ['CUDA_VISIBLE_DEVICES'] = \"0\"\n",
    "\n",
    "import tensorflow as tf\n",
    "import tensorflow.keras as tfk\n",
    "import tensorflow.keras.backend as K\n",
    "import numpy as np\n",
    "from tqdm.notebook import tqdm\n",
    "from sklearn.metrics import *\n"
   ]
  },
  {
   "cell_type": "code",
   "execution_count": null,
   "metadata": {
    "execution": {
     "iopub.execute_input": "2020-11-17T08:00:51.952451Z",
     "iopub.status.busy": "2020-11-17T08:00:51.951709Z",
     "iopub.status.idle": "2020-11-17T08:00:58.847621Z",
     "shell.execute_reply": "2020-11-17T08:00:58.846997Z"
    },
    "papermill": {
     "duration": 6.961709,
     "end_time": "2020-11-17T08:00:58.847751",
     "exception": false,
     "start_time": "2020-11-17T08:00:51.886042",
     "status": "completed"
    },
    "tags": []
   },
   "outputs": [],
   "source": [
    "num_aminoAcids = {0:'A', 1:'C', 2:'E', 3:'D', 4:'G', 5:'F', 6:'I', 7:'H', 8:'K', 9:'M', 10:'L',\n",
    "            11:'N', 12:'Q', 13:'P', 14:'S', 15:'R', 16:'T', 17:'W', 18:'V', 19:'Y', 20:'X'}\n",
    "num_ss = {0:'L',1:'B',2:'E',3:'G',4:'I',5:'H',6:'S',7:'T'}\n",
    "aminoAcid_I = {j:i+1 for i,j in num_aminoAcids.items()}\n",
    "aminoAcid_I['<pad>'] = 0\n",
    "aminoAcid_I['<S>'] = len(aminoAcid_I)\n",
    "aminoAcid_I['<EOS>'] = len(aminoAcid_I)\n",
    "ss_I = {j:i+1 for i,j in num_ss.items()}\n",
    "ss_I['<pad>'] = 0\n",
    "ss_I['X'] = len(ss_I)\n",
    "ss_I['<S>'] = len(ss_I)\n",
    "ss_I['<EOS>'] = len(ss_I)\n",
    "\n",
    "trainDataPath = 'Data/Secondary_Structure_Train_Dataset.npz'\n",
    "testDataPath = 'Data/Secondary_Structure_Test_Dataset.npz'\n",
    "\n",
    "tmp = np.load('Data/Secondary_Structure_Motif_Antimotif.npz')\n",
    "motifs = tmp['motifs']\n",
    "antiMotifs = tmp['antimotifs']\n",
    "len(motifs),len(antiMotifs)"
   ]
  },
  {
   "cell_type": "code",
   "execution_count": null,
   "metadata": {
    "execution": {
     "iopub.execute_input": "2020-11-17T08:00:58.923113Z",
     "iopub.status.busy": "2020-11-17T08:00:58.922181Z",
     "iopub.status.idle": "2020-11-17T08:00:58.928943Z",
     "shell.execute_reply": "2020-11-17T08:00:58.928133Z"
    },
    "papermill": {
     "duration": 0.026152,
     "end_time": "2020-11-17T08:00:58.929080",
     "exception": false,
     "start_time": "2020-11-17T08:00:58.902928",
     "status": "completed"
    },
    "tags": []
   },
   "outputs": [],
   "source": [
    "try:\n",
    "    tpu = tf.distribute.cluster_resolver.TPUClusterResolver()\n",
    "    print('Running on TPU ', tpu.master())\n",
    "except ValueError:\n",
    "    tpu = None\n",
    "if tpu:\n",
    "    tf.config.experimental_connect_to_cluster(tpu)\n",
    "    tf.tpu.experimental.initialize_tpu_system(tpu)\n",
    "    strategy = tf.distribute.experimental.TPUStrategy(tpu)\n",
    "else:\n",
    "    strategy = tf.distribute.get_strategy()\n",
    "print(\"REPLICAS: \", strategy.num_replicas_in_sync)"
   ]
  },
  {
   "cell_type": "code",
   "execution_count": null,
   "metadata": {},
   "outputs": [],
   "source": [
    "def load_data(file_path):\n",
    "    data = np.load(file_path)\n",
    "    sequences = data['sequences']\n",
    "    pssms = data['pssms']\n",
    "    secondary_structure = data['secondaryStrucs']\n",
    "\n",
    "    in1 = np.zeros((sequences.shape[0], 702), dtype=np.int32)\n",
    "    in2 = np.zeros((sequences.shape[0], 702,22), dtype=np.float32)\n",
    "    in3 = np.zeros((sequences.shape[0], 702), dtype=np.int32)\n",
    "    out = np.zeros((sequences.shape[0], 702), dtype=np.int32)\n",
    "    for i in tqdm(range(sequences.shape[0])):\n",
    "        seq = '-'\n",
    "        in1[i,0] = aminoAcid_I['<S>']\n",
    "        in3[i,0] = 1\n",
    "        out[i,0] = ss_I['<S>']\n",
    "        for j in range(sequences.shape[1]):\n",
    "            if np.sum(sequences[i,j,:]) == 0:\n",
    "                in1[i,j+1] = aminoAcid_I['<EOS>']\n",
    "                in3[i,j+1] = j+2\n",
    "                out[i,j+1] = ss_I['<EOS>']\n",
    "                break\n",
    "            in3[i,j+1] = j+2\n",
    "            t = num_aminoAcids[np.argmax(sequences[i,j,:])]\n",
    "            seq += t\n",
    "            in1[i,j+1] = aminoAcid_I[t]\n",
    "            out[i,j+1] = ss_I[num_ss[np.argmax(secondary_structure[i,j,:])]]\n",
    "            if np.sum(secondary_structure[i,j,:]) == 0:\n",
    "                out[i,j+1] = ss_I['X']\n",
    "            in2[i,j+1] = pssms[i,j]\n",
    "    in4 = np.where(in1!=0, 1, 0)[:,:,None]\n",
    "    return in1, in2, in3, in4, out\n"
   ]
  },
  {
   "cell_type": "code",
   "execution_count": null,
   "metadata": {},
   "outputs": [],
   "source": [
    "X1, X2, X3, X4, Y = load_data(trainDataPath)\n",
    "X1_val = X1[12000:]\n",
    "X2_val = X2[12000:]\n",
    "X3_val = X3[12000:]\n",
    "X4_val = X4[12000:]\n",
    "Y_val = tf.one_hot(Y[12000:], 9)[:,:,1:]\n",
    "\n",
    "X1 = X1[:12000]\n",
    "X2 = X2[:12000]\n",
    "X3 = X3[:12000]\n",
    "X4 = X4[:12000]\n",
    "Y = tf.one_hot(Y[:12000], 9)[:,:,1:]\n"
   ]
  },
  {
   "cell_type": "code",
   "execution_count": null,
   "metadata": {
    "execution": {
     "iopub.execute_input": "2020-11-17T08:00:58.973174Z",
     "iopub.status.busy": "2020-11-17T08:00:58.971747Z",
     "iopub.status.idle": "2020-11-17T08:00:58.974218Z",
     "shell.execute_reply": "2020-11-17T08:00:58.974711Z"
    },
    "papermill": {
     "duration": 0.032342,
     "end_time": "2020-11-17T08:00:58.974815",
     "exception": false,
     "start_time": "2020-11-17T08:00:58.942473",
     "status": "completed"
    },
    "tags": []
   },
   "outputs": [],
   "source": [
    "def shape_list(x):\n",
    "    tmp = list(K.int_shape(x))\n",
    "    tmp[0] = -1\n",
    "    return tmp\n",
    "\n",
    "def selfAttention(V, mask):\n",
    "    units = int(V.shape[2])\n",
    "    Q = tfk.layers.TimeDistributed( tfk.layers.Dense(units, activation=None, use_bias=False))(V)\n",
    "    K_ = tfk.layers.TimeDistributed( tfk.layers.Dense(units, activation=None, use_bias=False))(Q)\n",
    "    SoftAtten = tfk.layers.Dot(axes=-1, normalize=False)([Q, K_])\n",
    "    SoftAtten = tfk.layers.Lambda(lambda inp: inp[0]/K.sqrt(K.cast(shape_list(inp[1])[-1], K.floatx())))([SoftAtten, V])\n",
    "    SoftAtten = tfk.layers.Softmax(axis=-1)(SoftAtten)\n",
    "    SoftAtten = tfk.layers.Multiply()([SoftAtten, mask])\n",
    "    V = tfk.layers.Permute([2,1])(V)\n",
    "    SA = tfk.layers.Dot(axes=-1, normalize=False)([SoftAtten, V])\n",
    "    return SA,SoftAtten\n",
    "\n",
    "def _getPosEncodingMat(length, dim):\n",
    "    posEnc = np.array([[pos/np.power(10000, 2*(j//2)/dim) for j in range(dim)]\n",
    "                        if pos!=0 else np.zeros(dim) for pos in range(length)], dtype=np.float32)\n",
    "    posEnc[1:, 0::2] = np.sin(posEnc[1:, 0::2])\n",
    "    posEnc[1:, 1::2] = np.cos(posEnc[1:, 1::2])\n",
    "    return posEnc"
   ]
  },
  {
   "cell_type": "code",
   "execution_count": null,
   "metadata": {
    "execution": {
     "iopub.execute_input": "2020-11-17T08:00:59.015723Z",
     "iopub.status.busy": "2020-11-17T08:00:59.012019Z",
     "iopub.status.idle": "2020-11-17T08:01:01.043378Z",
     "shell.execute_reply": "2020-11-17T08:01:01.042593Z"
    },
    "papermill": {
     "duration": 2.056449,
     "end_time": "2020-11-17T08:01:01.043528",
     "exception": false,
     "start_time": "2020-11-17T08:00:58.987079",
     "status": "completed"
    },
    "scrolled": true,
    "tags": []
   },
   "outputs": [],
   "source": [
    "with strategy.scope():\n",
    "    input1_ = tfk.layers.Input(shape=(702, ), name='sequence_input')\n",
    "    input2_ = tfk.layers.Input(shape=(702, 22, ), name='pssm_input')\n",
    "    input3_ = tfk.layers.Input(shape=(702, ), name='pid_input')\n",
    "    input4_ = tfk.layers.Input(shape=(702, 1, ), name='mask_input')\n",
    "    \n",
    "    x = tfk.layers.Embedding(input_dim=24, output_dim=100, name='embds')(input1_)\n",
    "    pidsEmbd = tfk.layers.Embedding(input_dim=702, output_dim=100, trainable=False, \n",
    "                                    weights=[_getPosEncodingMat(702, 100)], name='pids_embds')(input3_)\n",
    "    x = tfk.layers.Add(name='seq_embdAdd')([x, pidsEmbd])\n",
    "    model = tfk.layers.LSTM(units=100, return_sequences=True, name='lstm1')(x)\n",
    "    model = tfk.layers.concatenate([model, input2_], axis=-1, name='con1')\n",
    "    for _ in range(1):\n",
    "        model,_ = selfAttention(model, input4_)\n",
    "    model = tfk.layers.Bidirectional( tfk.layers.LSTM(units=200, return_sequences=True), name='lstm2')(model)\n",
    "    model = tfk.layers.TimeDistributed( tfk.layers.Dense(200, activation='relu'), name='output1')(model)\n",
    "    output_ = tfk.layers.TimeDistributed( tfk.layers.Dense(8, activation='softmax') ,name='output')(model)\n",
    "    \n",
    "    model = tfk.models.Model([input1_, input2_, input3_, input4_], output_)\n",
    "    model.compile(loss='categorical_crossentropy', metrics=['acc'], optimizer='adam')\n",
    "    \n",
    "    model.summary()"
   ]
  },
  {
   "cell_type": "code",
   "execution_count": null,
   "metadata": {
    "execution": {
     "iopub.execute_input": "2020-11-17T08:01:01.079044Z",
     "iopub.status.busy": "2020-11-17T08:01:01.077954Z",
     "iopub.status.idle": "2020-11-17T08:34:31.408269Z",
     "shell.execute_reply": "2020-11-17T08:34:31.407760Z"
    },
    "papermill": {
     "duration": 2010.350013,
     "end_time": "2020-11-17T08:34:31.408384",
     "exception": false,
     "start_time": "2020-11-17T08:01:01.058371",
     "status": "completed"
    },
    "scrolled": true,
    "tags": []
   },
   "outputs": [],
   "source": [
    "# model.fit([X1, X2, X3, X4], Y, verbose=1, batch_size=8, epochs=50)\n",
    "# model.save_weights('Weights/ALSTM.h5')\n"
   ]
  },
  {
   "cell_type": "code",
   "execution_count": null,
   "metadata": {
    "execution": {
     "iopub.execute_input": "2020-11-17T08:34:34.838343Z",
     "iopub.status.busy": "2020-11-17T08:34:34.837365Z",
     "iopub.status.idle": "2020-11-17T08:34:34.868368Z",
     "shell.execute_reply": "2020-11-17T08:34:34.867446Z"
    },
    "papermill": {
     "duration": 1.755246,
     "end_time": "2020-11-17T08:34:34.868476",
     "exception": false,
     "start_time": "2020-11-17T08:34:33.113230",
     "status": "completed"
    },
    "tags": []
   },
   "outputs": [],
   "source": [
    "model.load_weights('Weights/ALSTM.h5')"
   ]
  },
  {
   "cell_type": "code",
   "execution_count": null,
   "metadata": {
    "execution": {
     "iopub.execute_input": "2020-11-17T08:34:38.472157Z",
     "iopub.status.busy": "2020-11-17T08:34:38.470985Z",
     "iopub.status.idle": "2020-11-17T08:34:43.446020Z",
     "shell.execute_reply": "2020-11-17T08:34:43.445054Z"
    },
    "papermill": {
     "duration": 6.633423,
     "end_time": "2020-11-17T08:34:43.446146",
     "exception": false,
     "start_time": "2020-11-17T08:34:36.812723",
     "status": "completed"
    },
    "tags": []
   },
   "outputs": [],
   "source": [
    "preds = model.predict([X1_val, X2_val, X3_val, X4_val], verbose=1, batch_size=8)\n",
    "np.savez_compressed('alstm-vals', val_tr=Y_val, val_pr=preds)"
   ]
  },
  {
   "cell_type": "code",
   "execution_count": null,
   "metadata": {
    "execution": {
     "iopub.execute_input": "2020-11-17T08:34:47.485762Z",
     "iopub.status.busy": "2020-11-17T08:34:47.484790Z",
     "iopub.status.idle": "2020-11-17T08:34:47.928612Z",
     "shell.execute_reply": "2020-11-17T08:34:47.929092Z"
    },
    "papermill": {
     "duration": 2.813028,
     "end_time": "2020-11-17T08:34:47.929223",
     "exception": false,
     "start_time": "2020-11-17T08:34:45.116195",
     "status": "completed"
    },
    "tags": []
   },
   "outputs": [],
   "source": [
    "def to_q3(x):\n",
    "    y = []\n",
    "    for i in x:\n",
    "        if i in [0,6,7]:\n",
    "            y += [1]\n",
    "        elif i in [1,2]:\n",
    "            y += [2]\n",
    "        else:\n",
    "            y += [3]\n",
    "    return y\n",
    "\n",
    "m = np.sum(Y_val, axis=-1)\n",
    "y_t = np.argmax(Y_val[m==1],axis=-1)\n",
    "y_p = np.argmax(preds[m==1],axis=-1)\n",
    "print(classification_report(y_t,y_p))\n",
    "print(accuracy_score(to_q3(y_t),to_q3(y_p)),accuracy_score(y_t,y_p),precision_score(y_t,y_p,average='weighted'),\n",
    "      recall_score(y_t,y_p,average='weighted'), f1_score(y_t,y_p,average='weighted'))"
   ]
  },
  {
   "cell_type": "code",
   "execution_count": null,
   "metadata": {},
   "outputs": [],
   "source": [
    "X1_te, X2_te, X3_te, X4_te, Y_te = load_data(testDataPath)\n",
    "Y_te = tf.one_hot(Y_te, 9)[:,:,1:]\n"
   ]
  },
  {
   "cell_type": "code",
   "execution_count": null,
   "metadata": {},
   "outputs": [],
   "source": [
    "preds = model.predict([X1_te, X2_te, X3_te, X4_te], verbose=1, batch_size=8)\n",
    "np.savez_compressed('alstm-tests', te_tr=Y_te, te_pr=preds)"
   ]
  },
  {
   "cell_type": "code",
   "execution_count": null,
   "metadata": {},
   "outputs": [],
   "source": [
    "m = np.sum(Y_te, axis=-1)\n",
    "y_t = np.argmax(Y_te[m==1],axis=-1)\n",
    "y_p = np.argmax(preds[m==1],axis=-1)\n",
    "print(classification_report(y_t,y_p))\n",
    "print(accuracy_score(to_q3(y_t),to_q3(y_p)),accuracy_score(y_t,y_p),precision_score(y_t,y_p,average='weighted'),\n",
    "      recall_score(y_t,y_p,average='weighted'), f1_score(y_t,y_p,average='weighted'))"
   ]
  },
  {
   "cell_type": "code",
   "execution_count": null,
   "metadata": {},
   "outputs": [],
   "source": []
  }
 ],
 "metadata": {
  "kernelspec": {
   "display_name": "Python 3",
   "language": "python",
   "name": "python3"
  },
  "language_info": {
   "codemirror_mode": {
    "name": "ipython",
    "version": 3
   },
   "file_extension": ".py",
   "mimetype": "text/x-python",
   "name": "python",
   "nbconvert_exporter": "python",
   "pygments_lexer": "ipython3",
   "version": "3.8.5"
  },
  "papermill": {
   "duration": 2072.415559,
   "end_time": "2020-11-17T08:35:14.300372",
   "environment_variables": {},
   "exception": null,
   "input_path": "__notebook__.ipynb",
   "output_path": "__notebook__.ipynb",
   "parameters": {},
   "start_time": "2020-11-17T08:00:41.884813",
   "version": "2.1.0"
  }
 },
 "nbformat": 4,
 "nbformat_minor": 4
}
