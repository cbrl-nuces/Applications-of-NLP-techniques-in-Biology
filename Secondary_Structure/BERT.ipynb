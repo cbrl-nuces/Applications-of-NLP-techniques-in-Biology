{
 "cells": [
  {
   "cell_type": "code",
   "execution_count": null,
   "metadata": {
    "execution": {
     "iopub.execute_input": "2020-11-18T03:17:03.212099Z",
     "iopub.status.busy": "2020-11-18T03:17:03.211367Z",
     "iopub.status.idle": "2020-11-18T03:17:10.667055Z",
     "shell.execute_reply": "2020-11-18T03:17:10.665387Z"
    },
    "papermill": {
     "duration": 7.474406,
     "end_time": "2020-11-18T03:17:10.667188",
     "exception": false,
     "start_time": "2020-11-18T03:17:03.192782",
     "status": "completed"
    },
    "tags": []
   },
   "outputs": [],
   "source": [
    "# import os\n",
    "# os.environ['CUDA_VISIBLE_DEVICES'] = \"2\"\n",
    "\n",
    "import tensorflow as tf\n",
    "import tensorflow.keras as tfk\n",
    "import tensorflow.keras.backend as K\n",
    "import numpy as np\n",
    "from tqdm.notebook import tqdm\n",
    "from sklearn.metrics import *\n"
   ]
  },
  {
   "cell_type": "code",
   "execution_count": null,
   "metadata": {
    "execution": {
     "iopub.execute_input": "2020-11-18T03:17:10.700990Z",
     "iopub.status.busy": "2020-11-18T03:17:10.700127Z",
     "iopub.status.idle": "2020-11-18T03:17:18.212163Z",
     "shell.execute_reply": "2020-11-18T03:17:18.211331Z"
    },
    "papermill": {
     "duration": 7.532164,
     "end_time": "2020-11-18T03:17:18.212956",
     "exception": false,
     "start_time": "2020-11-18T03:17:10.680792",
     "status": "completed"
    },
    "tags": []
   },
   "outputs": [],
   "source": [
    "num_aminoAcids = {0:'A', 1:'C', 2:'E', 3:'D', 4:'G', 5:'F', 6:'I', 7:'H', 8:'K', 9:'M', 10:'L',\n",
    "            11:'N', 12:'Q', 13:'P', 14:'S', 15:'R', 16:'T', 17:'W', 18:'V', 19:'Y', 20:'X'}\n",
    "num_ss = {0:'L',1:'B',2:'E',3:'G',4:'I',5:'H',6:'S',7:'T'}\n",
    "aminoAcid_I = {j:i+1 for i,j in num_aminoAcids.items()}\n",
    "aminoAcid_I['<pad>'] = 0\n",
    "aminoAcid_I['<S>'] = len(aminoAcid_I)\n",
    "aminoAcid_I['<EOS>'] = len(aminoAcid_I)\n",
    "ss_I = {j:i+1 for i,j in num_ss.items()}\n",
    "ss_I['<pad>'] = 0\n",
    "ss_I['X'] = len(ss_I)\n",
    "ss_I['<S>'] = len(ss_I)\n",
    "ss_I['<EOS>'] = len(ss_I)\n",
    "\n",
    "trainDataPath = 'Data/Secondary_Structure_Train_Dataset.npz'\n",
    "testDataPath = 'Data/Secondary_Structure_Test_Dataset.npz'\n",
    "\n",
    "tmp = np.load('Data/Secondary_Structure_Motif_Antimotif.npz')\n",
    "motifs = tmp['motifs']\n",
    "antiMotifs = tmp['antimotifs']\n",
    "len(motifs),len(antiMotifs)"
   ]
  },
  {
   "cell_type": "code",
   "execution_count": null,
   "metadata": {
    "execution": {
     "iopub.execute_input": "2020-11-18T03:17:18.358105Z",
     "iopub.status.busy": "2020-11-18T03:17:18.357196Z",
     "iopub.status.idle": "2020-11-18T03:17:18.369581Z",
     "shell.execute_reply": "2020-11-18T03:17:18.368768Z"
    },
    "papermill": {
     "duration": 0.040493,
     "end_time": "2020-11-18T03:17:18.369758",
     "exception": false,
     "start_time": "2020-11-18T03:17:18.329265",
     "status": "completed"
    },
    "tags": []
   },
   "outputs": [],
   "source": [
    "try:\n",
    "    tpu = tf.distribute.cluster_resolver.TPUClusterResolver()\n",
    "    print('Running on TPU ', tpu.master())\n",
    "except ValueError:\n",
    "    tpu = None\n",
    "if tpu:\n",
    "    tf.config.experimental_connect_to_cluster(tpu)\n",
    "    tf.tpu.experimental.initialize_tpu_system(tpu)\n",
    "    strategy = tf.distribute.experimental.TPUStrategy(tpu)\n",
    "else:\n",
    "    strategy = tf.distribute.get_strategy()\n",
    "print(\"REPLICAS: \", strategy.num_replicas_in_sync)"
   ]
  },
  {
   "cell_type": "code",
   "execution_count": null,
   "metadata": {},
   "outputs": [],
   "source": [
    "def load_data(file_path):\n",
    "    data = np.load(file_path)\n",
    "    sequences = data['sequences']\n",
    "    pssms = data['pssms']\n",
    "    secondary_structure = data['secondaryStrucs']\n",
    "\n",
    "    in1 = np.zeros((sequences.shape[0], 702), dtype=np.int32)\n",
    "    in2 = np.zeros((sequences.shape[0], 702,22), dtype=np.float32)\n",
    "    in3 = np.zeros((sequences.shape[0], 702), dtype=np.int32)\n",
    "    out = np.zeros((sequences.shape[0], 702), dtype=np.int32)\n",
    "    for i in tqdm(range(sequences.shape[0])):\n",
    "        seq = '-'\n",
    "        in1[i,0] = aminoAcid_I['<S>']\n",
    "        in3[i,0] = 1\n",
    "        out[i,0] = ss_I['<S>']\n",
    "        for j in range(sequences.shape[1]):\n",
    "            if np.sum(sequences[i,j,:]) == 0:\n",
    "                in1[i,j+1] = aminoAcid_I['<EOS>']\n",
    "                in3[i,j+1] = j+2\n",
    "                out[i,j+1] = ss_I['<EOS>']\n",
    "                break\n",
    "            in3[i,j+1] = j+2\n",
    "            t = num_aminoAcids[np.argmax(sequences[i,j,:])]\n",
    "            seq += t\n",
    "            in1[i,j+1] = aminoAcid_I[t]\n",
    "            out[i,j+1] = ss_I[num_ss[np.argmax(secondary_structure[i,j,:])]]\n",
    "            if np.sum(secondary_structure[i,j,:]) == 0:\n",
    "                out[i,j+1] = ss_I['X']\n",
    "            in2[i,j+1] = pssms[i,j]\n",
    "    in4 = np.where(in1!=0, 1, 0)[:,:,None]\n",
    "    return in1, in3, in2, in4, out\n"
   ]
  },
  {
   "cell_type": "code",
   "execution_count": null,
   "metadata": {},
   "outputs": [],
   "source": [
    "X1, X2, X3, X4, Y = load_data(trainDataPath)\n",
    "X1_val = X1[12000:]\n",
    "X2_val = X2[12000:]\n",
    "X3_val = X3[12000:]\n",
    "X4_val = X4[12000:]\n",
    "Y_val = tf.one_hot(Y[12000:], 9)[:,:,1:]\n",
    "\n",
    "X1 = X1[:12000]\n",
    "X2 = X2[:12000]\n",
    "X3 = X3[:12000]\n",
    "X4 = X4[:12000]\n",
    "Y = tf.one_hot(Y[:12000], 9)[:,:,1:]\n"
   ]
  },
  {
   "cell_type": "code",
   "execution_count": null,
   "metadata": {
    "execution": {
     "iopub.execute_input": "2020-11-18T03:17:18.421017Z",
     "iopub.status.busy": "2020-11-18T03:17:18.419981Z",
     "iopub.status.idle": "2020-11-18T03:17:18.466425Z",
     "shell.execute_reply": "2020-11-18T03:17:18.467330Z"
    },
    "papermill": {
     "duration": 0.077994,
     "end_time": "2020-11-18T03:17:18.467526",
     "exception": false,
     "start_time": "2020-11-18T03:17:18.389532",
     "status": "completed"
    },
    "tags": []
   },
   "outputs": [],
   "source": [
    "def shape_list(x):\n",
    "    tmp = list(K.int_shape(x))\n",
    "    tmp[0] = -1\n",
    "    return tmp\n",
    "\n",
    "def dot_product_attention(q, k, v):\n",
    "    depth = K.int_shape(q)[-1]\n",
    "    dots = tf.matmul(q, k, transpose_b=True) /  tf.sqrt(float(depth))\n",
    "    logsumexp = tf.math.reduce_logsumexp(dots, axis=-1, keepdims=True)\n",
    "    dots = tf.exp(dots - logsumexp)\n",
    "    attn = tf.matmul(dots, v)\n",
    "    return attn\n",
    "\n",
    "def prepare_dpa(x, n_heads, d_head):\n",
    "    s_l = K.int_shape(x)[1]\n",
    "    x = tf.reshape(x, (-1, s_l, n_heads, d_head))\n",
    "    x = tf.transpose(x, (0, 2, 1, 3))\n",
    "    x = tf.reshape(x, (-1, s_l, d_head))\n",
    "    return x\n",
    "\n",
    "def post_dpa(x, n_heads, d_head):\n",
    "    s_l = K.int_shape(x)[1]\n",
    "    x = tf.reshape(x, (-1, n_heads, s_l, d_head))\n",
    "    x = tf.reshape(x, (-1, s_l, n_heads*d_head))\n",
    "    return x\n",
    "\n",
    "def enc_dec_attention(x, y, d_feat, n_heads):\n",
    "    d_head = d_feat // n_heads\n",
    "    q = tfk.layers.TimeDistributed(tfk.layers.Dense(d_feat))(y)\n",
    "    q = prepare_dpa(q, n_heads, d_head)\n",
    "    k = tfk.layers.TimeDistributed(tfk.layers.Dense(d_feat))(x)\n",
    "    k = prepare_dpa(k, n_heads, d_head)\n",
    "    v = tfk.layers.TimeDistributed(tfk.layers.Dense(d_feat))(x)\n",
    "    v = prepare_dpa(v, n_heads, d_head)\n",
    "    x = dot_product_attention(q, k, v)\n",
    "    x = post_dpa(x, n_heads, d_head)\n",
    "    return x\n",
    "\n",
    "def casual_attention(x, d_feat, n_heads):\n",
    "    d_head = d_feat // n_heads\n",
    "    q = tfk.layers.TimeDistributed(tfk.layers.Dense(d_feat))(x)\n",
    "    q = prepare_dpa(q, n_heads, d_head)\n",
    "    k = tfk.layers.TimeDistributed(tfk.layers.Dense(d_feat))(x)\n",
    "    k = prepare_dpa(k, n_heads, d_head)\n",
    "    v = tfk.layers.TimeDistributed(tfk.layers.Dense(d_feat))(x)\n",
    "    v = prepare_dpa(v, n_heads, d_head)\n",
    "    x = dot_product_attention(q, k, v)\n",
    "    x = post_dpa(x, n_heads, d_head)\n",
    "    return x\n",
    "\n",
    "def feed_forward(x, n_units, d_ff, d_rate):\n",
    "    x = tfk.layers.LayerNormalization()(x)\n",
    "    x = tfk.layers.TimeDistributed(tfk.layers.Dense(d_ff, activation='relu'))(x)\n",
    "    x = tfk.layers.Dropout(d_rate)(x)\n",
    "    x = tfk.layers.TimeDistributed(tfk.layers.Dense(n_units, activation='relu'))(x)\n",
    "    x = tfk.layers.Dropout(d_rate)(x)\n",
    "    return x\n",
    "\n",
    "def decoder_block(x, z, n_units, d_ff, n_heads, d_rate):\n",
    "    x = tfk.layers.LayerNormalization()(x)\n",
    "    y = casual_attention(x, n_units, n_heads)\n",
    "    y = tfk.layers.Dropout(d_rate)(y)\n",
    "    x = tfk.layers.add([x,y])\n",
    "    x = tfk.layers.LayerNormalization()(x)\n",
    "    y = enc_dec_attention(z, x, n_units, n_heads)\n",
    "    y = tfk.layers.Dropout(d_rate)(y)\n",
    "    x = tfk.layers.add([x,y])\n",
    "    y = feed_forward(x, n_units, d_ff, d_rate)\n",
    "    y = tfk.layers.add([x,y])\n",
    "    return y\n",
    "\n",
    "def encoder_block(x, n_units, d_ff, n_heads, d_rate):\n",
    "    x = tfk.layers.LayerNormalization()(x)\n",
    "    y = casual_attention(x, n_units, n_heads)\n",
    "    y = tfk.layers.Dropout(d_rate)(y)\n",
    "    x = tfk.layers.add([x,y])\n",
    "    y = feed_forward(x, n_units, d_ff, d_rate)\n",
    "    y = tfk.layers.add([x,y])\n",
    "    return y\n",
    "\n",
    "def _getPosEncodingMat(length, dim):\n",
    "    posEnc = np.array([[pos/np.power(10000, 2*(j//2)/dim) for j in range(dim)]\n",
    "                        if pos!=0 else np.zeros(dim) for pos in range(length)], dtype=np.float32)\n",
    "    posEnc[1:, 0::2] = np.sin(posEnc[1:, 0::2])\n",
    "    posEnc[1:, 1::2] = np.cos(posEnc[1:, 1::2])\n",
    "    return posEnc"
   ]
  },
  {
   "cell_type": "code",
   "execution_count": null,
   "metadata": {
    "execution": {
     "iopub.execute_input": "2020-11-18T03:17:18.519733Z",
     "iopub.status.busy": "2020-11-18T03:17:18.518767Z",
     "iopub.status.idle": "2020-11-18T03:17:20.108502Z",
     "shell.execute_reply": "2020-11-18T03:17:20.109487Z"
    },
    "papermill": {
     "duration": 1.620836,
     "end_time": "2020-11-18T03:17:20.109691",
     "exception": false,
     "start_time": "2020-11-18T03:17:18.488855",
     "status": "completed"
    },
    "tags": []
   },
   "outputs": [],
   "source": [
    "with strategy.scope():\n",
    "    input1_ = tfk.layers.Input(shape=(702, ), name='sequence_input')\n",
    "    input2_ = tfk.layers.Input(shape=(702, ), name='pids_input')\n",
    "    input3_ = tfk.layers.Input(shape=(702, 22, ), name='pssm_input')\n",
    "    input4_ = tfk.layers.Input(shape=(702, 1, ), name='mask_input')\n",
    "    pidsEmbd = tfk.layers.Embedding(input_dim=702, output_dim=100, trainable=False,\n",
    "                                  weights=[_getPosEncodingMat(702, 100)], name='pids_embds')(input2_)\n",
    "    seqEmbd = tfk.layers.Embedding(input_dim=24, output_dim=100, name='seq_embds')(input1_)\n",
    "    x = tfk.layers.Add(name='seq_embdAdd')([seqEmbd, pidsEmbd])\n",
    "    x = tfk.layers.concatenate([x, input3_])\n",
    "    x = tfk.layers.Conv1D(200, 11, strides=1, padding='same', activation='relu')(x)\n",
    "    x = tfk.layers.Multiply()([x, input4_])\n",
    "    for _ in range(3):\n",
    "        x = encoder_block(x, 200, 512, 4, 0.2)\n",
    "    output_ = tfk.layers.TimeDistributed( tfk.layers.Dense(256, activation='relu'))(x)\n",
    "    output_ = tfk.layers.TimeDistributed( tfk.layers.Dense(8, activation='softmax'),name='output')(output_)\n",
    "    \n",
    "    model = tfk.models.Model([input1_, input2_, input3_, input4_], output_)\n",
    "    model.compile(loss='categorical_crossentropy', metrics=['acc'], optimizer='adam')\n",
    "    model.summary()\n"
   ]
  },
  {
   "cell_type": "code",
   "execution_count": null,
   "metadata": {
    "execution": {
     "iopub.execute_input": "2020-11-18T03:17:20.179696Z",
     "iopub.status.busy": "2020-11-18T03:17:20.178490Z",
     "iopub.status.idle": "2020-11-18T04:01:13.899482Z",
     "shell.execute_reply": "2020-11-18T04:01:13.898574Z"
    },
    "papermill": {
     "duration": 2633.751067,
     "end_time": "2020-11-18T04:01:13.899593",
     "exception": false,
     "start_time": "2020-11-18T03:17:20.148526",
     "status": "completed"
    },
    "tags": []
   },
   "outputs": [],
   "source": [
    "# model.fit([X1, X2, X3, X4], Y, verbose=1, batch_size=8, epochs=50)\n",
    "# model.save_weights('Weights/BERT.h5')\n"
   ]
  },
  {
   "cell_type": "code",
   "execution_count": null,
   "metadata": {
    "execution": {
     "iopub.execute_input": "2020-11-18T04:01:18.982372Z",
     "iopub.status.busy": "2020-11-18T04:01:18.981193Z",
     "iopub.status.idle": "2020-11-18T04:01:19.086362Z",
     "shell.execute_reply": "2020-11-18T04:01:19.087643Z"
    },
    "papermill": {
     "duration": 2.759885,
     "end_time": "2020-11-18T04:01:19.087858",
     "exception": false,
     "start_time": "2020-11-18T04:01:16.327973",
     "status": "completed"
    },
    "tags": []
   },
   "outputs": [],
   "source": [
    "model.load_weights('Weights/BERT.h5')"
   ]
  },
  {
   "cell_type": "code",
   "execution_count": null,
   "metadata": {
    "execution": {
     "iopub.execute_input": "2020-11-18T04:01:23.377781Z",
     "iopub.status.busy": "2020-11-18T04:01:23.377008Z",
     "iopub.status.idle": "2020-11-18T04:01:30.884923Z",
     "shell.execute_reply": "2020-11-18T04:01:30.884331Z"
    },
    "papermill": {
     "duration": 9.610277,
     "end_time": "2020-11-18T04:01:30.885045",
     "exception": false,
     "start_time": "2020-11-18T04:01:21.274768",
     "status": "completed"
    },
    "tags": []
   },
   "outputs": [],
   "source": [
    "preds = model.predict([X1_val, X2_val, X3_val, X4_val], verbose=1, batch_size=8)\n",
    "np.savez_compressed('bert-vals', val_tr=Y_val, val_pr=preds)"
   ]
  },
  {
   "cell_type": "code",
   "execution_count": null,
   "metadata": {},
   "outputs": [],
   "source": [
    "def to_q3(x):\n",
    "    y = []\n",
    "    for i in x:\n",
    "        if i in [0,6,7]:\n",
    "            y += [1]\n",
    "        elif i in [1,2]:\n",
    "            y += [2]\n",
    "        else:\n",
    "            y += [3]\n",
    "    return y\n",
    "\n",
    "m = np.sum(Y_val, axis=-1)\n",
    "y_t = np.argmax(Y_val[m==1],axis=-1)\n",
    "y_p = np.argmax(preds[m==1],axis=-1)\n",
    "print(classification_report(y_t,y_p))\n",
    "print(accuracy_score(to_q3(y_t),to_q3(y_p)),accuracy_score(y_t,y_p),precision_score(y_t,y_p,average='weighted'),\n",
    "      recall_score(y_t,y_p,average='weighted'), f1_score(y_t,y_p,average='weighted'))"
   ]
  },
  {
   "cell_type": "code",
   "execution_count": null,
   "metadata": {},
   "outputs": [],
   "source": [
    "X1_te, X2_te, X3_te, X4_te, Y_te = load_data(testDataPath)\n",
    "Y_te = tf.one_hot(Y_te, 9)[:,:,1:]\n"
   ]
  },
  {
   "cell_type": "code",
   "execution_count": null,
   "metadata": {},
   "outputs": [],
   "source": [
    "preds = model.predict([X1_te, X2_te, X3_te, X4_te], verbose=1, batch_size=8)\n",
    "np.savez_compressed('bert-tests', te_tr=Y_te, te_pr=preds)"
   ]
  },
  {
   "cell_type": "code",
   "execution_count": null,
   "metadata": {},
   "outputs": [],
   "source": [
    "m = np.sum(Y_te, axis=-1)\n",
    "y_t = np.argmax(Y_te[m==1],axis=-1)\n",
    "y_p = np.argmax(preds[m==1],axis=-1)\n",
    "print(classification_report(y_t,y_p))\n",
    "print(accuracy_score(to_q3(y_t),to_q3(y_p)),accuracy_score(y_t,y_p),precision_score(y_t,y_p,average='weighted'),\n",
    "      recall_score(y_t,y_p,average='weighted'), f1_score(y_t,y_p,average='weighted'))"
   ]
  },
  {
   "cell_type": "code",
   "execution_count": null,
   "metadata": {},
   "outputs": [],
   "source": []
  }
 ],
 "metadata": {
  "kernelspec": {
   "display_name": "Python 3",
   "language": "python",
   "name": "python3"
  },
  "language_info": {
   "codemirror_mode": {
    "name": "ipython",
    "version": 3
   },
   "file_extension": ".py",
   "mimetype": "text/x-python",
   "name": "python",
   "nbconvert_exporter": "python",
   "pygments_lexer": "ipython3",
   "version": "3.8.5"
  },
  "papermill": {
   "duration": 2710.293105,
   "end_time": "2020-11-18T04:02:08.843746",
   "environment_variables": {},
   "exception": null,
   "input_path": "__notebook__.ipynb",
   "output_path": "__notebook__.ipynb",
   "parameters": {},
   "start_time": "2020-11-18T03:16:58.550641",
   "version": "2.1.0"
  }
 },
 "nbformat": 4,
 "nbformat_minor": 4
}
